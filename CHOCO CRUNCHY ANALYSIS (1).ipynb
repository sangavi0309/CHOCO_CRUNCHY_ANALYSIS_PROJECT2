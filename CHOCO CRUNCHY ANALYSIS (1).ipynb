{
 "cells": [
  {
   "cell_type": "markdown",
   "id": "754a120b-8668-49f3-bc11-ec6dc1998328",
   "metadata": {},
   "source": [
    "# CHOCO CRUNCHY ANALYSIS"
   ]
  },
  {
   "cell_type": "markdown",
   "id": "cb037c2c-ec47-4000-b640-7a700ead5034",
   "metadata": {},
   "source": [
    "## 1.DATA SET COLLECTION"
   ]
  },
  {
   "cell_type": "code",
   "execution_count": 1,
   "id": "c017b526-66e7-4e69-a168-ba1148a5c195",
   "metadata": {},
   "outputs": [],
   "source": [
    "import requests\n",
    "import pandas as pd"
   ]
  },
  {
   "cell_type": "code",
   "execution_count": 2,
   "id": "05a9fa93",
   "metadata": {
    "scrolled": true
   },
   "outputs": [
    {
     "name": "stdout",
     "output_type": "stream",
     "text": [
      "Collected so far: 100\n",
      "Collected so far: 200\n",
      "Collected so far: 300\n",
      "Collected so far: 400\n",
      "Collected so far: 500\n",
      "Collected so far: 600\n",
      "Collected so far: 700\n",
      "Collected so far: 800\n",
      "Collected so far: 900\n",
      "Collected so far: 1000\n",
      "Collected so far: 1100\n",
      "Collected so far: 1200\n",
      "Collected so far: 1300\n",
      "Collected so far: 1400\n",
      "Collected so far: 1499\n",
      "Collected so far: 1599\n",
      "Collected so far: 1699\n",
      "Collected so far: 1799\n",
      "Collected so far: 1899\n",
      "Collected so far: 1999\n",
      "Collected so far: 2099\n",
      "Collected so far: 2199\n",
      "Collected so far: 2299\n",
      "Collected so far: 2399\n",
      "Collected so far: 2499\n",
      "Collected so far: 2599\n",
      "Collected so far: 2699\n",
      "Collected so far: 2799\n",
      "Collected so far: 2899\n",
      "Collected so far: 2999\n",
      "Collected so far: 3099\n",
      "Collected so far: 3199\n",
      "Collected so far: 3299\n",
      "Collected so far: 3399\n",
      "Collected so far: 3499\n",
      "Collected so far: 3599\n",
      "Collected so far: 3699\n",
      "Collected so far: 3799\n",
      "Collected so far: 3899\n",
      "Collected so far: 3999\n",
      "Collected so far: 4099\n",
      "Collected so far: 4199\n",
      "Collected so far: 4299\n",
      "Collected so far: 4399\n",
      "Collected so far: 4499\n",
      "Collected so far: 4599\n",
      "Collected so far: 4698\n",
      "Collected so far: 4798\n",
      "Collected so far: 4898\n",
      "Collected so far: 4998\n",
      "Collected so far: 5098\n",
      "Collected so far: 5198\n",
      "Collected so far: 5298\n",
      "Collected so far: 5398\n",
      "Collected so far: 5498\n",
      "Collected so far: 5598\n",
      "Collected so far: 5698\n",
      "Collected so far: 5798\n",
      "Collected so far: 5898\n",
      "Collected so far: 5998\n",
      "Collected so far: 6098\n",
      "Collected so far: 6198\n",
      "Collected so far: 6298\n",
      "Collected so far: 6398\n",
      "Collected so far: 6498\n",
      "Collected so far: 6598\n",
      "Collected so far: 6698\n",
      "Collected so far: 6798\n",
      "Collected so far: 6898\n",
      "Collected so far: 6998\n",
      "Collected so far: 7098\n",
      "Collected so far: 7198\n",
      "Collected so far: 7298\n",
      "Collected so far: 7398\n",
      "Collected so far: 7498\n",
      "Collected so far: 7598\n",
      "Collected so far: 7698\n",
      "Collected so far: 7798\n",
      "Collected so far: 7898\n",
      "Collected so far: 7998\n",
      "Collected so far: 8097\n",
      "Collected so far: 8197\n",
      "Collected so far: 8297\n",
      "Collected so far: 8397\n",
      "Collected so far: 8497\n",
      "Collected so far: 8597\n",
      "Collected so far: 8697\n",
      "Collected so far: 8797\n",
      "Collected so far: 8897\n",
      "Collected so far: 8997\n",
      "Collected so far: 9097\n",
      "Collected so far: 9197\n",
      "Collected so far: 9297\n",
      "Collected so far: 9397\n",
      "Collected so far: 9497\n",
      "Collected so far: 9597\n",
      "Collected so far: 9697\n",
      "Collected so far: 9797\n",
      "Collected so far: 9897\n",
      "Collected so far: 9997\n",
      "Collected so far: 10097\n",
      "Collected so far: 10197\n",
      "Collected so far: 10297\n",
      "Collected so far: 10397\n",
      "Collected so far: 10497\n",
      "Collected so far: 10597\n",
      "Collected so far: 10697\n",
      "Collected so far: 10797\n",
      "Collected so far: 10897\n",
      "Collected so far: 10997\n",
      "Collected so far: 11097\n",
      "Collected so far: 11197\n",
      "Collected so far: 11297\n",
      "Collected so far: 11397\n",
      "Collected so far: 11497\n",
      "Collected so far: 11597\n",
      "Collected so far: 11697\n",
      "Collected so far: 11797\n",
      "Collected so far: 11897\n",
      "Collected so far: 11997\n",
      "Collected so far: 12097\n",
      "Total records collected: 12097\n"
     ]
    }
   ],
   "source": [
    "### step:1 DATA EXTRACTION\n",
    "# empty list to collect products \n",
    "all_products = []\n",
    "\n",
    "page_size = 100  # max allowed\n",
    "total_pages = 121# 20*1000 = 20,000 possible records\n",
    "#using for loop to read all pages \n",
    "for page in range(1, total_pages + 1):\n",
    "    url = (f\"https://world.openfoodfacts.org/api/v2/search\"\n",
    "           f\"?categories=chocolate\"\n",
    "           f\"&fields=code,product_name,brands,nutriments\"\n",
    "           f\"&page_size={page_size}&page={page}\")\n",
    "    \n",
    "    response = requests.get(url)\n",
    "    data = response.json()\n",
    "    products = data.get('products', [])\n",
    "    if not products:\n",
    "        print(\"No more products\")\n",
    "        break\n",
    "    \n",
    "    all_products.extend(products)\n",
    "    print(f\"Collected so far: {len(all_products)}\")\n",
    "\n",
    "# save to csv\n",
    "df = pd.DataFrame(all_products)\n",
    "df.to_csv('chocolates.csv', index=False)\n",
    "print(f\"Total records collected: {len(df)}\")"
   ]
  },
  {
   "cell_type": "code",
   "execution_count": 3,
   "id": "f4b7f268-ce8c-44a7-9da3-a34e5ad4b8f3",
   "metadata": {},
   "outputs": [
    {
     "data": {
      "text/html": [
       "<div>\n",
       "<style scoped>\n",
       "    .dataframe tbody tr th:only-of-type {\n",
       "        vertical-align: middle;\n",
       "    }\n",
       "\n",
       "    .dataframe tbody tr th {\n",
       "        vertical-align: top;\n",
       "    }\n",
       "\n",
       "    .dataframe thead th {\n",
       "        text-align: right;\n",
       "    }\n",
       "</style>\n",
       "<table border=\"1\" class=\"dataframe\">\n",
       "  <thead>\n",
       "    <tr style=\"text-align: right;\">\n",
       "      <th></th>\n",
       "      <th>brands</th>\n",
       "      <th>code</th>\n",
       "      <th>nutriments</th>\n",
       "      <th>product_name</th>\n",
       "    </tr>\n",
       "  </thead>\n",
       "  <tbody>\n",
       "    <tr>\n",
       "      <th>0</th>\n",
       "      <td>Sidi Ali</td>\n",
       "      <td>6111035000430</td>\n",
       "      <td>{'carbohydrates': 42, 'carbohydrates_100g': 4....</td>\n",
       "      <td>Sidi Ali</td>\n",
       "    </tr>\n",
       "    <tr>\n",
       "      <th>1</th>\n",
       "      <td>perly</td>\n",
       "      <td>6111242100992</td>\n",
       "      <td>{'calcium': 0.25, 'calcium_100g': 0.25, 'calci...</td>\n",
       "      <td>perly</td>\n",
       "    </tr>\n",
       "    <tr>\n",
       "      <th>2</th>\n",
       "      <td>sidi ali</td>\n",
       "      <td>6111035002175</td>\n",
       "      <td>{'chloride': 0.014, 'chloride_100g': 0.014, 'c...</td>\n",
       "      <td>Sidi Ali</td>\n",
       "    </tr>\n",
       "    <tr>\n",
       "      <th>3</th>\n",
       "      <td>Les Eaux Minérales d'oulmès,Sidi Ali</td>\n",
       "      <td>6111035000058</td>\n",
       "      <td>{'fruits-vegetables-legumes-estimate-from-ingr...</td>\n",
       "      <td>Eau minérale naturelle</td>\n",
       "    </tr>\n",
       "    <tr>\n",
       "      <th>4</th>\n",
       "      <td>AQUAFINA</td>\n",
       "      <td>6111252421568</td>\n",
       "      <td>{'alcohol': 0, 'alcohol_100g': 0, 'alcohol_ser...</td>\n",
       "      <td>اكوافينا</td>\n",
       "    </tr>\n",
       "    <tr>\n",
       "      <th>...</th>\n",
       "      <td>...</td>\n",
       "      <td>...</td>\n",
       "      <td>...</td>\n",
       "      <td>...</td>\n",
       "    </tr>\n",
       "    <tr>\n",
       "      <th>12092</th>\n",
       "      <td>Nestlé</td>\n",
       "      <td>7613034975386</td>\n",
       "      <td>{'carbohydrates': 38.9, 'carbohydrates_100g': ...</td>\n",
       "      <td>Extrême original - vanille pépites de nougatine</td>\n",
       "    </tr>\n",
       "    <tr>\n",
       "      <th>12093</th>\n",
       "      <td>Suzi Wan</td>\n",
       "      <td>4002359006975</td>\n",
       "      <td>{'carbohydrates': 0.7, 'carbohydrates_100g': 0...</td>\n",
       "      <td>Lait de coco light</td>\n",
       "    </tr>\n",
       "    <tr>\n",
       "      <th>12094</th>\n",
       "      <td>Terres et Céréales, Terres et Céréales Bio</td>\n",
       "      <td>3421557502453</td>\n",
       "      <td>{'carbohydrates': 65, 'carbohydrates_100g': 65...</td>\n",
       "      <td>Muesli croustillant avoine myrtilles chia</td>\n",
       "    </tr>\n",
       "    <tr>\n",
       "      <th>12095</th>\n",
       "      <td>Autres secs, Blédina, Blédiscuit, Danone</td>\n",
       "      <td>3041090010866</td>\n",
       "      <td>{'carbohydrates': 76, 'carbohydrates_100g': 76...</td>\n",
       "      <td>Bledina mon premier boudoir</td>\n",
       "    </tr>\n",
       "    <tr>\n",
       "      <th>12096</th>\n",
       "      <td>Schweppes</td>\n",
       "      <td>3124480183927</td>\n",
       "      <td>{'carbohydrates': 5.7, 'carbohydrates_100g': 5...</td>\n",
       "      <td>PET 1.5L SCHWEPPES LEMON</td>\n",
       "    </tr>\n",
       "  </tbody>\n",
       "</table>\n",
       "<p>12097 rows × 4 columns</p>\n",
       "</div>"
      ],
      "text/plain": [
       "                                           brands           code  \\\n",
       "0                                        Sidi Ali  6111035000430   \n",
       "1                                           perly  6111242100992   \n",
       "2                                        sidi ali  6111035002175   \n",
       "3            Les Eaux Minérales d'oulmès,Sidi Ali  6111035000058   \n",
       "4                                        AQUAFINA  6111252421568   \n",
       "...                                           ...            ...   \n",
       "12092                                      Nestlé  7613034975386   \n",
       "12093                                    Suzi Wan  4002359006975   \n",
       "12094  Terres et Céréales, Terres et Céréales Bio  3421557502453   \n",
       "12095    Autres secs, Blédina, Blédiscuit, Danone  3041090010866   \n",
       "12096                                   Schweppes  3124480183927   \n",
       "\n",
       "                                              nutriments  \\\n",
       "0      {'carbohydrates': 42, 'carbohydrates_100g': 4....   \n",
       "1      {'calcium': 0.25, 'calcium_100g': 0.25, 'calci...   \n",
       "2      {'chloride': 0.014, 'chloride_100g': 0.014, 'c...   \n",
       "3      {'fruits-vegetables-legumes-estimate-from-ingr...   \n",
       "4      {'alcohol': 0, 'alcohol_100g': 0, 'alcohol_ser...   \n",
       "...                                                  ...   \n",
       "12092  {'carbohydrates': 38.9, 'carbohydrates_100g': ...   \n",
       "12093  {'carbohydrates': 0.7, 'carbohydrates_100g': 0...   \n",
       "12094  {'carbohydrates': 65, 'carbohydrates_100g': 65...   \n",
       "12095  {'carbohydrates': 76, 'carbohydrates_100g': 76...   \n",
       "12096  {'carbohydrates': 5.7, 'carbohydrates_100g': 5...   \n",
       "\n",
       "                                          product_name  \n",
       "0                                             Sidi Ali  \n",
       "1                                                perly  \n",
       "2                                             Sidi Ali  \n",
       "3                               Eau minérale naturelle  \n",
       "4                                             اكوافينا  \n",
       "...                                                ...  \n",
       "12092  Extrême original - vanille pépites de nougatine  \n",
       "12093                               Lait de coco light  \n",
       "12094        Muesli croustillant avoine myrtilles chia  \n",
       "12095                      Bledina mon premier boudoir  \n",
       "12096                         PET 1.5L SCHWEPPES LEMON  \n",
       "\n",
       "[12097 rows x 4 columns]"
      ]
     },
     "execution_count": 3,
     "metadata": {},
     "output_type": "execute_result"
    }
   ],
   "source": [
    "df"
   ]
  },
  {
   "cell_type": "markdown",
   "id": "a6a31460-4936-4e61-9f7f-447c65bf7359",
   "metadata": {},
   "source": [
    "## 2.DATA EXPLORATION AND CLEANING "
   ]
  },
  {
   "cell_type": "code",
   "execution_count": 55,
   "id": "89edddfa",
   "metadata": {},
   "outputs": [
    {
     "name": "stdout",
     "output_type": "stream",
     "text": [
      "<class 'pandas.core.frame.DataFrame'>\n",
      "RangeIndex: 12097 entries, 0 to 12096\n",
      "Data columns (total 4 columns):\n",
      " #   Column        Non-Null Count  Dtype \n",
      "---  ------        --------------  ----- \n",
      " 0   brands        11552 non-null  object\n",
      " 1   code          12097 non-null  object\n",
      " 2   nutriments    12097 non-null  object\n",
      " 3   product_name  11839 non-null  object\n",
      "dtypes: object(4)\n",
      "memory usage: 378.2+ KB\n"
     ]
    }
   ],
   "source": [
    "### checking the missing values\n",
    "\n",
    "df.info()"
   ]
  },
  {
   "cell_type": "code",
   "execution_count": 56,
   "id": "3e003b27-e942-4081-9354-3123fa0524de",
   "metadata": {},
   "outputs": [
    {
     "data": {
      "text/plain": [
       "brands          545\n",
       "code              0\n",
       "nutriments        0\n",
       "product_name    258\n",
       "dtype: int64"
      ]
     },
     "execution_count": 56,
     "metadata": {},
     "output_type": "execute_result"
    }
   ],
   "source": [
    "df.isnull().sum()"
   ]
  },
  {
   "cell_type": "code",
   "execution_count": 57,
   "id": "4d0bd882-17c6-4cda-92d9-1555e671343b",
   "metadata": {},
   "outputs": [
    {
     "data": {
      "text/html": [
       "<div>\n",
       "<style scoped>\n",
       "    .dataframe tbody tr th:only-of-type {\n",
       "        vertical-align: middle;\n",
       "    }\n",
       "\n",
       "    .dataframe tbody tr th {\n",
       "        vertical-align: top;\n",
       "    }\n",
       "\n",
       "    .dataframe thead th {\n",
       "        text-align: right;\n",
       "    }\n",
       "</style>\n",
       "<table border=\"1\" class=\"dataframe\">\n",
       "  <thead>\n",
       "    <tr style=\"text-align: right;\">\n",
       "      <th></th>\n",
       "      <th>brands</th>\n",
       "      <th>code</th>\n",
       "      <th>nutriments</th>\n",
       "      <th>product_name</th>\n",
       "    </tr>\n",
       "  </thead>\n",
       "  <tbody>\n",
       "    <tr>\n",
       "      <th>0</th>\n",
       "      <td>Sidi Ali</td>\n",
       "      <td>6111035000430</td>\n",
       "      <td>{'carbohydrates': 42, 'carbohydrates_100g': 4....</td>\n",
       "      <td>Sidi Ali</td>\n",
       "    </tr>\n",
       "    <tr>\n",
       "      <th>1</th>\n",
       "      <td>perly</td>\n",
       "      <td>6111242100992</td>\n",
       "      <td>{'calcium': 0.25, 'calcium_100g': 0.25, 'calci...</td>\n",
       "      <td>perly</td>\n",
       "    </tr>\n",
       "    <tr>\n",
       "      <th>2</th>\n",
       "      <td>sidi ali</td>\n",
       "      <td>6111035002175</td>\n",
       "      <td>{'chloride': 0.014, 'chloride_100g': 0.014, 'c...</td>\n",
       "      <td>Sidi Ali</td>\n",
       "    </tr>\n",
       "    <tr>\n",
       "      <th>3</th>\n",
       "      <td>Les Eaux Minérales d'oulmès,Sidi Ali</td>\n",
       "      <td>6111035000058</td>\n",
       "      <td>{'fruits-vegetables-legumes-estimate-from-ingr...</td>\n",
       "      <td>Eau minérale naturelle</td>\n",
       "    </tr>\n",
       "    <tr>\n",
       "      <th>4</th>\n",
       "      <td>AQUAFINA</td>\n",
       "      <td>6111252421568</td>\n",
       "      <td>{'alcohol': 0, 'alcohol_100g': 0, 'alcohol_ser...</td>\n",
       "      <td>اكوافينا</td>\n",
       "    </tr>\n",
       "  </tbody>\n",
       "</table>\n",
       "</div>"
      ],
      "text/plain": [
       "                                 brands           code  \\\n",
       "0                              Sidi Ali  6111035000430   \n",
       "1                                 perly  6111242100992   \n",
       "2                              sidi ali  6111035002175   \n",
       "3  Les Eaux Minérales d'oulmès,Sidi Ali  6111035000058   \n",
       "4                              AQUAFINA  6111252421568   \n",
       "\n",
       "                                          nutriments            product_name  \n",
       "0  {'carbohydrates': 42, 'carbohydrates_100g': 4....                Sidi Ali  \n",
       "1  {'calcium': 0.25, 'calcium_100g': 0.25, 'calci...                   perly  \n",
       "2  {'chloride': 0.014, 'chloride_100g': 0.014, 'c...                Sidi Ali  \n",
       "3  {'fruits-vegetables-legumes-estimate-from-ingr...  Eau minérale naturelle  \n",
       "4  {'alcohol': 0, 'alcohol_100g': 0, 'alcohol_ser...                اكوافينا  "
      ]
     },
     "execution_count": 57,
     "metadata": {},
     "output_type": "execute_result"
    }
   ],
   "source": [
    "df.head()"
   ]
  },
  {
   "cell_type": "markdown",
   "id": "bfb4f292-0055-43ab-8a49-31938e8d6870",
   "metadata": {},
   "source": [
    "## 3.FEATURE ENGINEERING"
   ]
  },
  {
   "cell_type": "code",
   "execution_count": 58,
   "id": "6ccf7fa5",
   "metadata": {},
   "outputs": [],
   "source": [
    "nutriments_df = pd.json_normalize(df['nutriments'])"
   ]
  },
  {
   "cell_type": "code",
   "execution_count": 59,
   "id": "8d1f049d",
   "metadata": {},
   "outputs": [
    {
     "data": {
      "text/plain": [
       "Index(['carbohydrates', 'carbohydrates_100g', 'carbohydrates_serving',\n",
       "       'carbohydrates_unit', 'carbohydrates_value', 'energy', 'energy-kcal',\n",
       "       'energy-kcal_100g', 'energy-kcal_serving', 'energy-kcal_unit',\n",
       "       ...\n",
       "       'plant-stanols_serving', 'plant-stanols_unit', 'plant-stanols_value',\n",
       "       'beta-glucane-d-avoine', 'beta-glucane-d-avoine_100g',\n",
       "       'beta-glucane-d-avoine_label', 'beta-glucane-d-avoine_modifier',\n",
       "       'beta-glucane-d-avoine_serving', 'beta-glucane-d-avoine_unit',\n",
       "       'beta-glucane-d-avoine_value'],\n",
       "      dtype='object', length=1432)"
      ]
     },
     "execution_count": 59,
     "metadata": {},
     "output_type": "execute_result"
    }
   ],
   "source": [
    "nutriments_df.columns"
   ]
  },
  {
   "cell_type": "code",
   "execution_count": 60,
   "id": "c96a0090",
   "metadata": {},
   "outputs": [],
   "source": [
    "req_nutriments_df = nutriments_df[['energy-kcal', 'energy-kj','carbohydrates','sugars','fat','saturated-fat','proteins','fiber','salt','sodium','nova-group','nutrition-score-fr','fruits-vegetables-nuts-estimate-from-ingredients']]"
   ]
  },
  {
   "cell_type": "code",
   "execution_count": 61,
   "id": "2076d355",
   "metadata": {},
   "outputs": [
    {
     "name": "stdout",
     "output_type": "stream",
     "text": [
      "<class 'pandas.core.frame.DataFrame'>\n",
      "RangeIndex: 12097 entries, 0 to 12096\n",
      "Data columns (total 13 columns):\n",
      " #   Column                                            Non-Null Count  Dtype  \n",
      "---  ------                                            --------------  -----  \n",
      " 0   energy-kcal                                       11327 non-null  float64\n",
      " 1   energy-kj                                         6445 non-null   float64\n",
      " 2   carbohydrates                                     11326 non-null  float64\n",
      " 3   sugars                                            11143 non-null  float64\n",
      " 4   fat                                               11360 non-null  float64\n",
      " 5   saturated-fat                                     11094 non-null  float64\n",
      " 6   proteins                                          11348 non-null  float64\n",
      " 7   fiber                                             8323 non-null   float64\n",
      " 8   salt                                              11083 non-null  float64\n",
      " 9   sodium                                            11083 non-null  float64\n",
      " 10  nova-group                                        10844 non-null  float64\n",
      " 11  nutrition-score-fr                                10474 non-null  float64\n",
      " 12  fruits-vegetables-nuts-estimate-from-ingredients  2 non-null      float64\n",
      "dtypes: float64(13)\n",
      "memory usage: 1.2 MB\n"
     ]
    }
   ],
   "source": [
    "req_nutriments_df.info()"
   ]
  },
  {
   "cell_type": "code",
   "execution_count": 62,
   "id": "f4472dfb",
   "metadata": {},
   "outputs": [],
   "source": [
    "tot_df = pd.concat([df[['code','product_name','brands']], req_nutriments_df], axis=1)"
   ]
  },
  {
   "cell_type": "code",
   "execution_count": 63,
   "id": "03aca28b",
   "metadata": {},
   "outputs": [
    {
     "name": "stdout",
     "output_type": "stream",
     "text": [
      "<class 'pandas.core.frame.DataFrame'>\n",
      "RangeIndex: 12097 entries, 0 to 12096\n",
      "Data columns (total 16 columns):\n",
      " #   Column                                            Non-Null Count  Dtype  \n",
      "---  ------                                            --------------  -----  \n",
      " 0   code                                              12097 non-null  object \n",
      " 1   product_name                                      11839 non-null  object \n",
      " 2   brands                                            11552 non-null  object \n",
      " 3   energy-kcal                                       11327 non-null  float64\n",
      " 4   energy-kj                                         6445 non-null   float64\n",
      " 5   carbohydrates                                     11326 non-null  float64\n",
      " 6   sugars                                            11143 non-null  float64\n",
      " 7   fat                                               11360 non-null  float64\n",
      " 8   saturated-fat                                     11094 non-null  float64\n",
      " 9   proteins                                          11348 non-null  float64\n",
      " 10  fiber                                             8323 non-null   float64\n",
      " 11  salt                                              11083 non-null  float64\n",
      " 12  sodium                                            11083 non-null  float64\n",
      " 13  nova-group                                        10844 non-null  float64\n",
      " 14  nutrition-score-fr                                10474 non-null  float64\n",
      " 15  fruits-vegetables-nuts-estimate-from-ingredients  2 non-null      float64\n",
      "dtypes: float64(13), object(3)\n",
      "memory usage: 1.5+ MB\n"
     ]
    }
   ],
   "source": [
    "tot_df.info()"
   ]
  },
  {
   "cell_type": "code",
   "execution_count": 64,
   "id": "64ac7602",
   "metadata": {},
   "outputs": [
    {
     "data": {
      "text/html": [
       "<div>\n",
       "<style scoped>\n",
       "    .dataframe tbody tr th:only-of-type {\n",
       "        vertical-align: middle;\n",
       "    }\n",
       "\n",
       "    .dataframe tbody tr th {\n",
       "        vertical-align: top;\n",
       "    }\n",
       "\n",
       "    .dataframe thead th {\n",
       "        text-align: right;\n",
       "    }\n",
       "</style>\n",
       "<table border=\"1\" class=\"dataframe\">\n",
       "  <thead>\n",
       "    <tr style=\"text-align: right;\">\n",
       "      <th></th>\n",
       "      <th>code</th>\n",
       "      <th>product_name</th>\n",
       "      <th>brands</th>\n",
       "      <th>energy-kcal</th>\n",
       "      <th>energy-kj</th>\n",
       "      <th>carbohydrates</th>\n",
       "      <th>sugars</th>\n",
       "      <th>fat</th>\n",
       "      <th>saturated-fat</th>\n",
       "      <th>proteins</th>\n",
       "      <th>fiber</th>\n",
       "      <th>salt</th>\n",
       "      <th>sodium</th>\n",
       "      <th>nova-group</th>\n",
       "      <th>nutrition-score-fr</th>\n",
       "      <th>fruits-vegetables-nuts-estimate-from-ingredients</th>\n",
       "    </tr>\n",
       "  </thead>\n",
       "  <tbody>\n",
       "    <tr>\n",
       "      <th>0</th>\n",
       "      <td>6111035000430</td>\n",
       "      <td>Sidi Ali</td>\n",
       "      <td>Sidi Ali</td>\n",
       "      <td>0.0</td>\n",
       "      <td>20.0</td>\n",
       "      <td>42.0</td>\n",
       "      <td>14.0</td>\n",
       "      <td>0.0</td>\n",
       "      <td>0.0</td>\n",
       "      <td>0.0</td>\n",
       "      <td>0.0</td>\n",
       "      <td>0.00000</td>\n",
       "      <td>0.000000</td>\n",
       "      <td>NaN</td>\n",
       "      <td>1.0</td>\n",
       "      <td>NaN</td>\n",
       "    </tr>\n",
       "    <tr>\n",
       "      <th>1</th>\n",
       "      <td>6111242100992</td>\n",
       "      <td>perly</td>\n",
       "      <td>perly</td>\n",
       "      <td>97.0</td>\n",
       "      <td>406.0</td>\n",
       "      <td>9.4</td>\n",
       "      <td>NaN</td>\n",
       "      <td>3.0</td>\n",
       "      <td>NaN</td>\n",
       "      <td>8.0</td>\n",
       "      <td>NaN</td>\n",
       "      <td>NaN</td>\n",
       "      <td>NaN</td>\n",
       "      <td>NaN</td>\n",
       "      <td>NaN</td>\n",
       "      <td>NaN</td>\n",
       "    </tr>\n",
       "    <tr>\n",
       "      <th>2</th>\n",
       "      <td>6111035002175</td>\n",
       "      <td>Sidi Ali</td>\n",
       "      <td>sidi ali</td>\n",
       "      <td>NaN</td>\n",
       "      <td>NaN</td>\n",
       "      <td>NaN</td>\n",
       "      <td>NaN</td>\n",
       "      <td>NaN</td>\n",
       "      <td>NaN</td>\n",
       "      <td>NaN</td>\n",
       "      <td>NaN</td>\n",
       "      <td>0.06500</td>\n",
       "      <td>0.026000</td>\n",
       "      <td>1.0</td>\n",
       "      <td>0.0</td>\n",
       "      <td>NaN</td>\n",
       "    </tr>\n",
       "    <tr>\n",
       "      <th>3</th>\n",
       "      <td>6111035000058</td>\n",
       "      <td>Eau minérale naturelle</td>\n",
       "      <td>Les Eaux Minérales d'oulmès,Sidi Ali</td>\n",
       "      <td>NaN</td>\n",
       "      <td>NaN</td>\n",
       "      <td>NaN</td>\n",
       "      <td>NaN</td>\n",
       "      <td>NaN</td>\n",
       "      <td>NaN</td>\n",
       "      <td>NaN</td>\n",
       "      <td>NaN</td>\n",
       "      <td>0.06500</td>\n",
       "      <td>0.026000</td>\n",
       "      <td>1.0</td>\n",
       "      <td>0.0</td>\n",
       "      <td>NaN</td>\n",
       "    </tr>\n",
       "    <tr>\n",
       "      <th>4</th>\n",
       "      <td>6111252421568</td>\n",
       "      <td>اكوافينا</td>\n",
       "      <td>AQUAFINA</td>\n",
       "      <td>0.0</td>\n",
       "      <td>0.0</td>\n",
       "      <td>0.0</td>\n",
       "      <td>0.0</td>\n",
       "      <td>0.0</td>\n",
       "      <td>0.0</td>\n",
       "      <td>0.0</td>\n",
       "      <td>0.0</td>\n",
       "      <td>0.00508</td>\n",
       "      <td>0.002032</td>\n",
       "      <td>NaN</td>\n",
       "      <td>0.0</td>\n",
       "      <td>NaN</td>\n",
       "    </tr>\n",
       "  </tbody>\n",
       "</table>\n",
       "</div>"
      ],
      "text/plain": [
       "            code            product_name  \\\n",
       "0  6111035000430                Sidi Ali   \n",
       "1  6111242100992                   perly   \n",
       "2  6111035002175                Sidi Ali   \n",
       "3  6111035000058  Eau minérale naturelle   \n",
       "4  6111252421568                اكوافينا   \n",
       "\n",
       "                                 brands  energy-kcal  energy-kj  \\\n",
       "0                              Sidi Ali          0.0       20.0   \n",
       "1                                 perly         97.0      406.0   \n",
       "2                              sidi ali          NaN        NaN   \n",
       "3  Les Eaux Minérales d'oulmès,Sidi Ali          NaN        NaN   \n",
       "4                              AQUAFINA          0.0        0.0   \n",
       "\n",
       "   carbohydrates  sugars  fat  saturated-fat  proteins  fiber     salt  \\\n",
       "0           42.0    14.0  0.0            0.0       0.0    0.0  0.00000   \n",
       "1            9.4     NaN  3.0            NaN       8.0    NaN      NaN   \n",
       "2            NaN     NaN  NaN            NaN       NaN    NaN  0.06500   \n",
       "3            NaN     NaN  NaN            NaN       NaN    NaN  0.06500   \n",
       "4            0.0     0.0  0.0            0.0       0.0    0.0  0.00508   \n",
       "\n",
       "     sodium  nova-group  nutrition-score-fr  \\\n",
       "0  0.000000         NaN                 1.0   \n",
       "1       NaN         NaN                 NaN   \n",
       "2  0.026000         1.0                 0.0   \n",
       "3  0.026000         1.0                 0.0   \n",
       "4  0.002032         NaN                 0.0   \n",
       "\n",
       "   fruits-vegetables-nuts-estimate-from-ingredients  \n",
       "0                                               NaN  \n",
       "1                                               NaN  \n",
       "2                                               NaN  \n",
       "3                                               NaN  \n",
       "4                                               NaN  "
      ]
     },
     "execution_count": 64,
     "metadata": {},
     "output_type": "execute_result"
    }
   ],
   "source": [
    "tot_df.head()"
   ]
  },
  {
   "cell_type": "code",
   "execution_count": 65,
   "id": "ddbb2742",
   "metadata": {},
   "outputs": [],
   "source": [
    "### NEW COLUMNS TO DERIVE\n",
    "# 1. Sugar-to-Carb Ratio\n",
    "tot_df[\"sugar_to_carb_ratio\"] = tot_df[\"sugars\"] / tot_df[\"carbohydrates\"]\n",
    "tot_df[\"sugar_to_carb_ratio\"] = tot_df[\"sugar_to_carb_ratio\"].replace([float(\"inf\"), -float(\"inf\")], None)\n",
    "\n",
    "# 2. Calorie Category\n",
    "def calorie_category(kcal):\n",
    "    if pd.isna(kcal):\n",
    "        return None\n",
    "    elif kcal <= 100:\n",
    "        return \"Low\"\n",
    "    elif kcal <= 200:\n",
    "        return \"Moderate\"\n",
    "    else:\n",
    "        return \"High\"\n",
    "\n",
    "tot_df[\"calorie_category\"] = tot_df[\"energy-kcal\"].apply(calorie_category)\n",
    "\n",
    "# 3. Sugar Category\n",
    "def sugar_category(sugar):\n",
    "    if pd.isna(sugar):\n",
    "        return None\n",
    "    elif sugar <= 5:\n",
    "        return \"Low Sugar\"\n",
    "    elif sugar <= 15:\n",
    "        return \"Moderate Sugar\"\n",
    "    else:\n",
    "        return \"High Sugar\"\n",
    "\n",
    "tot_df[\"sugar_category\"] = tot_df[\"sugars\"].apply(sugar_category)\n",
    "\n",
    "# 4. Ultra-Processed Flag\n",
    "tot_df[\"is_ultra_processed\"] = tot_df[\"nova-group\"].apply(\n",
    "    lambda x: \"Yes\" if x == 4 else (\"No\" if pd.notna(x) else None)\n",
    ")\n"
   ]
  },
  {
   "cell_type": "markdown",
   "id": "18f912ff-d1a4-4203-b97b-b5be13bfd6b2",
   "metadata": {},
   "source": [
    "## EDA"
   ]
  },
  {
   "cell_type": "code",
   "execution_count": 66,
   "id": "e6972061",
   "metadata": {},
   "outputs": [
    {
     "data": {
      "text/plain": [
       "(12097, 20)"
      ]
     },
     "execution_count": 66,
     "metadata": {},
     "output_type": "execute_result"
    }
   ],
   "source": [
    "tot_df.shape"
   ]
  },
  {
   "cell_type": "code",
   "execution_count": 67,
   "id": "77e30e82",
   "metadata": {},
   "outputs": [
    {
     "data": {
      "text/html": [
       "<div>\n",
       "<style scoped>\n",
       "    .dataframe tbody tr th:only-of-type {\n",
       "        vertical-align: middle;\n",
       "    }\n",
       "\n",
       "    .dataframe tbody tr th {\n",
       "        vertical-align: top;\n",
       "    }\n",
       "\n",
       "    .dataframe thead th {\n",
       "        text-align: right;\n",
       "    }\n",
       "</style>\n",
       "<table border=\"1\" class=\"dataframe\">\n",
       "  <thead>\n",
       "    <tr style=\"text-align: right;\">\n",
       "      <th></th>\n",
       "      <th>energy-kcal</th>\n",
       "      <th>energy-kj</th>\n",
       "      <th>carbohydrates</th>\n",
       "      <th>sugars</th>\n",
       "      <th>fat</th>\n",
       "      <th>saturated-fat</th>\n",
       "      <th>proteins</th>\n",
       "      <th>fiber</th>\n",
       "      <th>salt</th>\n",
       "      <th>sodium</th>\n",
       "      <th>nova-group</th>\n",
       "      <th>nutrition-score-fr</th>\n",
       "      <th>fruits-vegetables-nuts-estimate-from-ingredients</th>\n",
       "    </tr>\n",
       "  </thead>\n",
       "  <tbody>\n",
       "    <tr>\n",
       "      <th>count</th>\n",
       "      <td>11327.000000</td>\n",
       "      <td>6445.000000</td>\n",
       "      <td>11326.000000</td>\n",
       "      <td>11143.000000</td>\n",
       "      <td>11360.000000</td>\n",
       "      <td>11094.000000</td>\n",
       "      <td>11348.000000</td>\n",
       "      <td>8.323000e+03</td>\n",
       "      <td>11083.000000</td>\n",
       "      <td>11083.000000</td>\n",
       "      <td>10844.000000</td>\n",
       "      <td>10474.000000</td>\n",
       "      <td>2.000000</td>\n",
       "    </tr>\n",
       "    <tr>\n",
       "      <th>mean</th>\n",
       "      <td>278.687526</td>\n",
       "      <td>1217.400955</td>\n",
       "      <td>29.266562</td>\n",
       "      <td>11.409764</td>\n",
       "      <td>14.823276</td>\n",
       "      <td>5.103578</td>\n",
       "      <td>7.262820</td>\n",
       "      <td>7.342595e+08</td>\n",
       "      <td>1.255847</td>\n",
       "      <td>0.502339</td>\n",
       "      <td>3.296108</td>\n",
       "      <td>8.943384</td>\n",
       "      <td>54.000000</td>\n",
       "    </tr>\n",
       "    <tr>\n",
       "      <th>std</th>\n",
       "      <td>476.925150</td>\n",
       "      <td>850.382096</td>\n",
       "      <td>93.548112</td>\n",
       "      <td>19.335579</td>\n",
       "      <td>38.063556</td>\n",
       "      <td>11.083011</td>\n",
       "      <td>29.527119</td>\n",
       "      <td>6.698685e+10</td>\n",
       "      <td>10.462930</td>\n",
       "      <td>4.185172</td>\n",
       "      <td>1.017789</td>\n",
       "      <td>9.770152</td>\n",
       "      <td>62.225397</td>\n",
       "    </tr>\n",
       "    <tr>\n",
       "      <th>min</th>\n",
       "      <td>0.000000</td>\n",
       "      <td>0.000000</td>\n",
       "      <td>0.000000</td>\n",
       "      <td>0.000000</td>\n",
       "      <td>0.000000</td>\n",
       "      <td>0.000000</td>\n",
       "      <td>0.000000</td>\n",
       "      <td>0.000000e+00</td>\n",
       "      <td>0.000000</td>\n",
       "      <td>0.000000</td>\n",
       "      <td>1.000000</td>\n",
       "      <td>-17.000000</td>\n",
       "      <td>10.000000</td>\n",
       "    </tr>\n",
       "    <tr>\n",
       "      <th>25%</th>\n",
       "      <td>90.000000</td>\n",
       "      <td>414.000000</td>\n",
       "      <td>4.654167</td>\n",
       "      <td>1.000000</td>\n",
       "      <td>1.200000</td>\n",
       "      <td>0.300000</td>\n",
       "      <td>1.400000</td>\n",
       "      <td>5.000000e-01</td>\n",
       "      <td>0.040000</td>\n",
       "      <td>0.016000</td>\n",
       "      <td>3.000000</td>\n",
       "      <td>1.000000</td>\n",
       "      <td>32.000000</td>\n",
       "    </tr>\n",
       "    <tr>\n",
       "      <th>50%</th>\n",
       "      <td>240.000000</td>\n",
       "      <td>1185.000000</td>\n",
       "      <td>15.000000</td>\n",
       "      <td>4.100000</td>\n",
       "      <td>6.200000</td>\n",
       "      <td>1.400000</td>\n",
       "      <td>5.600000</td>\n",
       "      <td>2.400000e+00</td>\n",
       "      <td>0.325000</td>\n",
       "      <td>0.130000</td>\n",
       "      <td>4.000000</td>\n",
       "      <td>7.000000</td>\n",
       "      <td>54.000000</td>\n",
       "    </tr>\n",
       "    <tr>\n",
       "      <th>75%</th>\n",
       "      <td>433.000000</td>\n",
       "      <td>1873.000000</td>\n",
       "      <td>55.000000</td>\n",
       "      <td>13.000000</td>\n",
       "      <td>21.000000</td>\n",
       "      <td>5.900000</td>\n",
       "      <td>9.300000</td>\n",
       "      <td>5.500000e+00</td>\n",
       "      <td>0.980000</td>\n",
       "      <td>0.392000</td>\n",
       "      <td>4.000000</td>\n",
       "      <td>16.000000</td>\n",
       "      <td>76.000000</td>\n",
       "    </tr>\n",
       "    <tr>\n",
       "      <th>max</th>\n",
       "      <td>45793.499044</td>\n",
       "      <td>3768.000000</td>\n",
       "      <td>8989.000000</td>\n",
       "      <td>895.000000</td>\n",
       "      <td>3400.000000</td>\n",
       "      <td>595.000000</td>\n",
       "      <td>3000.000000</td>\n",
       "      <td>6.111242e+12</td>\n",
       "      <td>898.000000</td>\n",
       "      <td>359.200000</td>\n",
       "      <td>4.000000</td>\n",
       "      <td>51.000000</td>\n",
       "      <td>98.000000</td>\n",
       "    </tr>\n",
       "  </tbody>\n",
       "</table>\n",
       "</div>"
      ],
      "text/plain": [
       "        energy-kcal    energy-kj  carbohydrates        sugars           fat  \\\n",
       "count  11327.000000  6445.000000   11326.000000  11143.000000  11360.000000   \n",
       "mean     278.687526  1217.400955      29.266562     11.409764     14.823276   \n",
       "std      476.925150   850.382096      93.548112     19.335579     38.063556   \n",
       "min        0.000000     0.000000       0.000000      0.000000      0.000000   \n",
       "25%       90.000000   414.000000       4.654167      1.000000      1.200000   \n",
       "50%      240.000000  1185.000000      15.000000      4.100000      6.200000   \n",
       "75%      433.000000  1873.000000      55.000000     13.000000     21.000000   \n",
       "max    45793.499044  3768.000000    8989.000000    895.000000   3400.000000   \n",
       "\n",
       "       saturated-fat      proteins         fiber          salt        sodium  \\\n",
       "count   11094.000000  11348.000000  8.323000e+03  11083.000000  11083.000000   \n",
       "mean        5.103578      7.262820  7.342595e+08      1.255847      0.502339   \n",
       "std        11.083011     29.527119  6.698685e+10     10.462930      4.185172   \n",
       "min         0.000000      0.000000  0.000000e+00      0.000000      0.000000   \n",
       "25%         0.300000      1.400000  5.000000e-01      0.040000      0.016000   \n",
       "50%         1.400000      5.600000  2.400000e+00      0.325000      0.130000   \n",
       "75%         5.900000      9.300000  5.500000e+00      0.980000      0.392000   \n",
       "max       595.000000   3000.000000  6.111242e+12    898.000000    359.200000   \n",
       "\n",
       "         nova-group  nutrition-score-fr  \\\n",
       "count  10844.000000        10474.000000   \n",
       "mean       3.296108            8.943384   \n",
       "std        1.017789            9.770152   \n",
       "min        1.000000          -17.000000   \n",
       "25%        3.000000            1.000000   \n",
       "50%        4.000000            7.000000   \n",
       "75%        4.000000           16.000000   \n",
       "max        4.000000           51.000000   \n",
       "\n",
       "       fruits-vegetables-nuts-estimate-from-ingredients  \n",
       "count                                          2.000000  \n",
       "mean                                          54.000000  \n",
       "std                                           62.225397  \n",
       "min                                           10.000000  \n",
       "25%                                           32.000000  \n",
       "50%                                           54.000000  \n",
       "75%                                           76.000000  \n",
       "max                                           98.000000  "
      ]
     },
     "execution_count": 67,
     "metadata": {},
     "output_type": "execute_result"
    }
   ],
   "source": [
    "tot_df.describe()"
   ]
  },
  {
   "cell_type": "code",
   "execution_count": 68,
   "id": "338e5983",
   "metadata": {},
   "outputs": [
    {
     "name": "stdout",
     "output_type": "stream",
     "text": [
      "Total number od Brands: 4064\n",
      "Total number od Product: 10307\n"
     ]
    }
   ],
   "source": [
    "print(f\"Total number od Brands: {tot_df['brands'].nunique()}\")\n",
    "print(f\"Total number od Product: {tot_df['product_name'].nunique()}\")"
   ]
  },
  {
   "cell_type": "markdown",
   "id": "7300d395",
   "metadata": {},
   "source": [
    "Missing Values"
   ]
  },
  {
   "cell_type": "code",
   "execution_count": 69,
   "id": "e7e535c2",
   "metadata": {},
   "outputs": [
    {
     "name": "stdout",
     "output_type": "stream",
     "text": [
      "Missing values:\n",
      " fruits-vegetables-nuts-estimate-from-ingredients    12095\n",
      "energy-kj                                            5652\n",
      "fiber                                                3774\n",
      "nutrition-score-fr                                   1623\n",
      "sugar_to_carb_ratio                                  1605\n",
      "nova-group                                           1253\n",
      "is_ultra_processed                                   1253\n",
      "salt                                                 1014\n",
      "sodium                                               1014\n",
      "saturated-fat                                        1003\n",
      "sugar_category                                        954\n",
      "sugars                                                954\n",
      "carbohydrates                                         771\n",
      "calorie_category                                      770\n",
      "energy-kcal                                           770\n",
      "proteins                                              749\n",
      "fat                                                   737\n",
      "brands                                                545\n",
      "product_name                                          258\n",
      "code                                                    0\n",
      "dtype: int64\n",
      "Missing %:\n",
      " code                                                 0.00\n",
      "product_name                                         2.13\n",
      "brands                                               4.51\n",
      "energy-kcal                                          6.37\n",
      "energy-kj                                           46.72\n",
      "carbohydrates                                        6.37\n",
      "sugars                                               7.89\n",
      "fat                                                  6.09\n",
      "saturated-fat                                        8.29\n",
      "proteins                                             6.19\n",
      "fiber                                               31.20\n",
      "salt                                                 8.38\n",
      "sodium                                               8.38\n",
      "nova-group                                          10.36\n",
      "nutrition-score-fr                                  13.42\n",
      "fruits-vegetables-nuts-estimate-from-ingredients    99.98\n",
      "sugar_to_carb_ratio                                 13.27\n",
      "calorie_category                                     6.37\n",
      "sugar_category                                       7.89\n",
      "is_ultra_processed                                  10.36\n",
      "dtype: float64\n"
     ]
    }
   ],
   "source": [
    "# Count missing values per column\n",
    "missing = tot_df.isnull().sum().sort_values(ascending=False)\n",
    "print(\"Missing values:\\n\", missing)\n",
    "\n",
    "# Percentage of missing values\n",
    "missing_percent = (tot_df.isnull().mean() * 100).round(2)\n",
    "print(\"Missing %:\\n\", missing_percent)\n"
   ]
  },
  {
   "cell_type": "markdown",
   "id": "65e2e2db",
   "metadata": {},
   "source": [
    "Distributions of Key Nutrients"
   ]
  },
  {
   "cell_type": "code",
   "execution_count": 70,
   "id": "84292e9a",
   "metadata": {},
   "outputs": [
    {
     "data": {
      "image/png": "[encoded data removed]",
      "text/plain": [
       "<Figure size 640x480 with 1 Axes>"
      ]
     },
     "metadata": {},
     "output_type": "display_data"
    },
    {
     "data": {
      "image/png": "[encoded data removed]",
      "text/plain": [
       "<Figure size 640x480 with 1 Axes>"
      ]
     },
     "metadata": {},
     "output_type": "display_data"
    },
    {
     "data": {
      "image/png": "[encoded data removed]",
      "text/plain": [
       "<Figure size 640x480 with 1 Axes>"
      ]
     },
     "metadata": {},
     "output_type": "display_data"
    }
   ],
   "source": [
    "import matplotlib.pyplot as plt\n",
    "\n",
    "# Histogram of energy (kcal)\n",
    "tot_df[\"energy-kcal\"].dropna().hist(bins=30, edgecolor=\"black\")\n",
    "plt.title(\"Distribution of Energy (kcal)\")\n",
    "plt.xlabel(\"Calories (kcal per 100g)\")\n",
    "plt.ylabel(\"Count\")\n",
    "plt.show()\n",
    "\n",
    "# Histogram of sugars\n",
    "tot_df[\"sugars\"].dropna().hist(bins=30, edgecolor=\"black\")\n",
    "plt.title(\"Distribution of Sugars (g/100g)\")\n",
    "plt.xlabel(\"Sugars (g)\")\n",
    "plt.ylabel(\"Count\")\n",
    "plt.show()\n",
    "\n",
    "# Histogram of sugar-to-carb ratio\n",
    "tot_df[\"sugar_to_carb_ratio\"].dropna().hist(bins=30, edgecolor=\"black\")\n",
    "plt.title(\"Distribution of Sugar-to-Carb Ratio\")\n",
    "plt.xlabel(\"Ratio\")\n",
    "plt.ylabel(\"Count\")\n",
    "plt.show()\n"
   ]
  },
  {
   "cell_type": "markdown",
   "id": "bbd83aa6",
   "metadata": {},
   "source": [
    "Category-Based Analysis"
   ]
  },
  {
   "cell_type": "code",
   "execution_count": 71,
   "id": "a271ec8f",
   "metadata": {},
   "outputs": [
    {
     "data": {
      "image/png": "[encoded data removed]",
      "text/plain": [
       "<Figure size 640x480 with 1 Axes>"
      ]
     },
     "metadata": {},
     "output_type": "display_data"
    },
    {
     "data": {
      "image/png": "[encoded data removed]",
      "text/plain": [
       "<Figure size 640x480 with 1 Axes>"
      ]
     },
     "metadata": {},
     "output_type": "display_data"
    },
    {
     "data": {
      "image/png": "[encoded data removed]",
      "text/plain": [
       "<Figure size 640x480 with 1 Axes>"
      ]
     },
     "metadata": {},
     "output_type": "display_data"
    },
    {
     "data": {
      "image/png": "[encoded data removed]",
      "text/plain": [
       "<Figure size 640x480 with 1 Axes>"
      ]
     },
     "metadata": {},
     "output_type": "display_data"
    }
   ],
   "source": [
    "# Bar plot for calorie categories\n",
    "tot_df[\"calorie_category\"].value_counts().plot(kind=\"bar\", color=\"skyblue\", edgecolor=\"black\")\n",
    "plt.title(\"Number of Products by Calorie Category\")\n",
    "plt.ylabel(\"Count\")\n",
    "plt.show()\n",
    "\n",
    "# Bar plot for sugar categories\n",
    "tot_df[\"sugar_category\"].value_counts().plot(kind=\"bar\", color=\"lightcoral\", edgecolor=\"black\")\n",
    "plt.title(\"Number of Products by Sugar Category\")\n",
    "plt.ylabel(\"Count\")\n",
    "plt.show()\n",
    "\n",
    "# Pie chart for NOVA groups\n",
    "tot_df[\"nova-group\"].value_counts().plot(kind=\"pie\", autopct='%1.1f%%', startangle=90, colors=[\"lightgreen\",\"orange\",\"skyblue\",\"red\"])\n",
    "plt.title(\"Proportion of Products by NOVA Group\")\n",
    "plt.ylabel(\"\")\n",
    "plt.show()\n",
    "\n",
    "# Compare ultra-processed vs others\n",
    "tot_df[\"is_ultra_processed\"].value_counts().plot(kind=\"bar\", color=\"purple\", edgecolor=\"black\")\n",
    "plt.title(\"Ultra-Processed vs Others\")\n",
    "plt.ylabel(\"Count\")\n",
    "plt.show()\n"
   ]
  },
  {
   "cell_type": "markdown",
   "id": "bf15139e",
   "metadata": {},
   "source": [
    "Relationships"
   ]
  },
  {
   "cell_type": "code",
   "execution_count": 72,
   "id": "82d70b3d",
   "metadata": {},
   "outputs": [
    {
     "data": {
      "image/png": "[encoded data removed]",
      "text/plain": [
       "<Figure size 640x480 with 1 Axes>"
      ]
     },
     "metadata": {},
     "output_type": "display_data"
    },
    {
     "data": {
      "image/png": "[encoded data removed]",
      "text/plain": [
       "<Figure size 640x480 with 1 Axes>"
      ]
     },
     "metadata": {},
     "output_type": "display_data"
    },
    {
     "data": {
      "image/png": "[encoded data removed]",
      "text/plain": [
       "<Figure size 1000x600 with 2 Axes>"
      ]
     },
     "metadata": {},
     "output_type": "display_data"
    }
   ],
   "source": [
    "import seaborn as sns\n",
    "\n",
    "# Scatter: Calories vs Sugars\n",
    "sns.scatterplot(x=\"energy-kcal\", y=\"sugars\", data=tot_df, hue=\"is_ultra_processed\", alpha=0.7)\n",
    "plt.title(\"Calories vs Sugars (colored by processing level)\")\n",
    "plt.show()\n",
    "\n",
    "# Boxplot: Calories by Brand (top 10 brands)\n",
    "top_brands = tot_df[\"brands\"].value_counts().head(10).index\n",
    "sns.boxplot(x=\"brands\", y=\"energy-kcal\", data=tot_df[tot_df[\"brands\"].isin(top_brands)])\n",
    "plt.xticks(rotation=45)\n",
    "plt.title(\"Calories per 100g across Top 10 Brands\")\n",
    "plt.show()\n",
    "\n",
    "# Correlation Heatmap\n",
    "plt.figure(figsize=(10,6))\n",
    "sns.heatmap(tot_df[[\"energy-kcal\", \"sugars\", \"carbohydrates\", \"fat\", \"proteins\", \"fiber\", \"salt\", \"sugar_to_carb_ratio\"]].corr(), annot=True, cmap=\"coolwarm\", center=0)\n",
    "plt.title(\"Correlation Heatmap of Nutritional Values\")\n",
    "plt.show()\n"
   ]
  },
  {
   "cell_type": "markdown",
   "id": "3d7d4579",
   "metadata": {},
   "source": [
    "Brand-Level insights"
   ]
  },
  {
   "cell_type": "code",
   "execution_count": 73,
   "id": "22f2ff3b",
   "metadata": {},
   "outputs": [
    {
     "data": {
      "image/png": "[encoded data removed]",
      "text/plain": [
       "<Figure size 640x480 with 1 Axes>"
      ]
     },
     "metadata": {},
     "output_type": "display_data"
    },
    {
     "data": {
      "image/png": "[encoded data removed]",
      "text/plain": [
       "<Figure size 640x480 with 1 Axes>"
      ]
     },
     "metadata": {},
     "output_type": "display_data"
    }
   ],
   "source": [
    "# Top 10 brands with highest average calories\n",
    "brand_calories = tot_df.groupby(\"brands\")[\"energy-kcal\"].mean().sort_values(ascending=False).head(10)\n",
    "brand_calories.plot(kind=\"bar\", color=\"brown\", edgecolor=\"black\")\n",
    "plt.title(\"Top 10 Brands by Average Calories\")\n",
    "plt.ylabel(\"Avg kcal per 100g\")\n",
    "plt.show()\n",
    "\n",
    "# Top 10 brands with highest average sugar\n",
    "brand_sugar = tot_df.groupby(\"brands\")[\"sugars\"].mean().sort_values(ascending=False).head(10)\n",
    "brand_sugar.plot(kind=\"bar\", color=\"darkred\", edgecolor=\"black\")\n",
    "plt.title(\"Top 10 Brands by Average Sugar Content\")\n",
    "plt.ylabel(\"Avg sugars (g per 100g)\")\n",
    "plt.show()\n"
   ]
  },
  {
   "cell_type": "markdown",
   "id": "a3274087-b877-4322-9aa2-91cf72f9662e",
   "metadata": {},
   "source": [
    "## 4.SQL TABLE INSERTION"
   ]
  },
  {
   "cell_type": "markdown",
   "id": "707c5077",
   "metadata": {},
   "source": [
    "SQL Database"
   ]
  },
  {
   "cell_type": "code",
   "execution_count": 74,
   "id": "bd3743fa",
   "metadata": {},
   "outputs": [],
   "source": [
    "product_df = tot_df[['code','product_name','brands']]\n",
    "nutrient_df = tot_df[['code','energy-kcal', 'energy-kj','carbohydrates','sugars','fat','saturated-fat','proteins','fiber','salt','sodium','nova-group','nutrition-score-fr','fruits-vegetables-nuts-estimate-from-ingredients']]\n",
    "derived_df = tot_df[['code','sugar_to_carb_ratio','calorie_category','sugar_category','is_ultra_processed']]\n"
   ]
  },
  {
   "cell_type": "code",
   "execution_count": 75,
   "id": "cf5dc60b",
   "metadata": {},
   "outputs": [],
   "source": [
    "import sqlite3\n",
    "\n",
    "# ----------------- Connect / Create DB -----------------\n",
    "conn = sqlite3.connect(\"chocolates.db\")  # will create if not exists\n",
    "cursor = conn.cursor()\n",
    "\n",
    "# ----------------- Create Tables -----------------\n",
    "cursor.execute('''CREATE TABLE IF NOT EXISTS product_info (\n",
    "                    product_code TEXT PRIMARY KEY,\n",
    "                    product_name TEXT,\n",
    "                    brand TEXT)''')\n",
    "\n",
    "cursor.execute('''CREATE TABLE IF NOT EXISTS nutrient_info (\n",
    "                    product_code TEXT,\n",
    "                    energy_kcal_value FLOAT,\n",
    "                    energy_kj_value FLOAT,\n",
    "                    carbohydrates_value FLOAT,\n",
    "                    sugars_value FLOAT,\n",
    "                    fat_value FLOAT,\n",
    "                    saturated_fat_value FLOAT,\n",
    "                    proteins_value FLOAT,\n",
    "                    fiber_value FLOAT,\n",
    "                    salt_value FLOAT,\n",
    "                    sodium_value FLOAT,\n",
    "                    fruits_vegetables_nuts_estimate_100g FLOAT,\n",
    "                    nutrition_score_fr INTEGER,\n",
    "                    nova_group INTEGER,\n",
    "                    FOREIGN KEY (product_code) REFERENCES product_info(product_code))''')\n",
    "\n",
    "cursor.execute('''CREATE TABLE IF NOT EXISTS derived_metrics (\n",
    "                    product_code TEXT,\n",
    "                    sugar_to_carb_ratio FLOAT,\n",
    "                    calorie_category TEXT,\n",
    "                    sugar_category TEXT,\n",
    "                    is_ultra_processed TEXT,\n",
    "                    FOREIGN KEY (product_code) REFERENCES product_info(product_code))''')\n",
    "\n",
    "conn.commit()\n",
    "\n",
    "# ----------------- Insert Data -----------------\n",
    "# Example DataFrames: product_df, nutrient_df, derived_df\n",
    "for _, row in product_df.iterrows():\n",
    "    cursor.execute('''INSERT OR REPLACE INTO product_info (product_code, product_name, brand)\n",
    "                      VALUES (?, ?, ?)''',\n",
    "                   (row['code'], row['product_name'], row['brands']))\n",
    "\n",
    "for _, row in nutrient_df.iterrows():\n",
    "    cursor.execute('''INSERT OR REPLACE INTO nutrient_info\n",
    "                      (product_code, energy_kcal_value, energy_kj_value, carbohydrates_value,\n",
    "                       sugars_value, fat_value, saturated_fat_value, proteins_value, fiber_value,\n",
    "                       salt_value, sodium_value, fruits_vegetables_nuts_estimate_100g,\n",
    "                       nutrition_score_fr, nova_group)\n",
    "                      VALUES (?, ?, ?, ?, ?, ?, ?, ?, ?, ?, ?, ?, ?, ?)''',\n",
    "                   (row['code'], row['energy-kcal'], row['energy-kj'], row['carbohydrates'],\n",
    "                    row['sugars'], row['fat'], row['saturated-fat'], row['proteins'], row['fiber'],\n",
    "                    row['salt'], row['sodium'], row['fruits-vegetables-nuts-estimate-from-ingredients'],\n",
    "                    row['nutrition-score-fr'], row['nova-group']))\n",
    "\n",
    "for _, row in derived_df.iterrows():\n",
    "    cursor.execute('''INSERT OR REPLACE INTO derived_metrics\n",
    "                      (product_code, sugar_to_carb_ratio, calorie_category, sugar_category, is_ultra_processed)\n",
    "                      VALUES (?, ?, ?, ?, ?)''',\n",
    "                   (row['code'], row['sugar_to_carb_ratio'], row['calorie_category'],\n",
    "                    row['sugar_category'], row['is_ultra_processed']))\n",
    "\n",
    "conn.commit()\n",
    "#conn.close()\n"
   ]
  },
  {
   "cell_type": "markdown",
   "id": "97f6bec1-ddb5-4600-bda2-b2eb09dfc584",
   "metadata": {},
   "source": [
    "## 5.SQL QUERIES"
   ]
  },
  {
   "cell_type": "code",
   "execution_count": 76,
   "id": "a33a8c50",
   "metadata": {},
   "outputs": [],
   "source": [
    "def execute_query(query):\n",
    "    query_df = pd.read_sql(query, conn)\n",
    "    return query_df"
   ]
  },
  {
   "cell_type": "markdown",
   "id": "08ad583e",
   "metadata": {},
   "source": [
    "product_info Table Queries\n",
    "1. Count products per brand"
   ]
  },
  {
   "cell_type": "code",
   "execution_count": 77,
   "id": "be1fe82b",
   "metadata": {},
   "outputs": [
    {
     "name": "stdout",
     "output_type": "stream",
     "text": [
      "                                                  brand  product_count\n",
      "0                                                  None            545\n",
      "1                                                                  109\n",
      "2                                                  10dh              1\n",
      "3     1540 Vestby, Norwegen, Oluf Lorentzen AS, Tove...              1\n",
      "4     166, 43122 Parma - Italy, Barilla, Barilla - B...              1\n",
      "...                                                 ...            ...\n",
      "4063                                               كنور              1\n",
      "4064                                            كوسومار              1\n",
      "4065                                            لاسيگون              1\n",
      "4066                                               نلزه              1\n",
      "4067                         ولماس ماء معدني غازي طبيعي              1\n",
      "\n",
      "[4068 rows x 2 columns]\n"
     ]
    }
   ],
   "source": [
    "query_1 = \"\"\"SELECT brand, COUNT(*) AS product_count\n",
    "FROM product_info\n",
    "GROUP BY brand;\"\"\"\n",
    "print(execute_query(query_1))"
   ]
  },
  {
   "cell_type": "markdown",
   "id": "4dd2ecba",
   "metadata": {},
   "source": [
    "2. Count unique products per brand"
   ]
  },
  {
   "cell_type": "code",
   "execution_count": 78,
   "id": "1369c301",
   "metadata": {},
   "outputs": [
    {
     "name": "stdout",
     "output_type": "stream",
     "text": [
      "                                                  brand  unique_products\n",
      "0                                                  None              313\n",
      "1                                                                     69\n",
      "2                                                  10dh                1\n",
      "3     1540 Vestby, Norwegen, Oluf Lorentzen AS, Tove...                1\n",
      "4     166, 43122 Parma - Italy, Barilla, Barilla - B...                1\n",
      "...                                                 ...              ...\n",
      "4063                                               كنور                1\n",
      "4064                                            كوسومار                1\n",
      "4065                                            لاسيگون                1\n",
      "4066                                               نلزه                1\n",
      "4067                         ولماس ماء معدني غازي طبيعي                1\n",
      "\n",
      "[4068 rows x 2 columns]\n"
     ]
    }
   ],
   "source": [
    "query_2  = \"\"\"SELECT brand, COUNT(DISTINCT product_name) AS unique_products\n",
    "FROM product_info\n",
    "GROUP BY brand;\"\"\"\n",
    "print(execute_query(query_2))"
   ]
  },
  {
   "cell_type": "markdown",
   "id": "7f909956",
   "metadata": {},
   "source": [
    "3. Top 5 brands by product count"
   ]
  },
  {
   "cell_type": "code",
   "execution_count": 79,
   "id": "40da4c01",
   "metadata": {},
   "outputs": [
    {
     "name": "stdout",
     "output_type": "stream",
     "text": [
      "       brand  product_count\n",
      "0       None            545\n",
      "1  Hacendado            388\n",
      "2      Tesco            266\n",
      "3  Carrefour            148\n",
      "4                       109\n"
     ]
    }
   ],
   "source": [
    "query_3 = \"\"\"SELECT brand, COUNT(*) AS product_count\n",
    "FROM product_info\n",
    "GROUP BY brand\n",
    "ORDER BY product_count DESC\n",
    "LIMIT 5;\n",
    "\"\"\"\n",
    "print(execute_query(query_3))"
   ]
  },
  {
   "cell_type": "markdown",
   "id": "e8c4822e",
   "metadata": {},
   "source": [
    "4. Products with missing product name"
   ]
  },
  {
   "cell_type": "code",
   "execution_count": 80,
   "id": "68892c77",
   "metadata": {},
   "outputs": [
    {
     "name": "stdout",
     "output_type": "stream",
     "text": [
      "      product_code product_name      brand\n",
      "0    8712561538077                    Dove\n",
      "1    6111242100985                  Jaouda\n",
      "2    6111099003897                   lilia\n",
      "3    6111128000460               aïn Saiss\n",
      "4    8425197712024                  Maruja\n",
      "..             ...          ...        ...\n",
      "545  6111018909323         None       None\n",
      "546  6111243510547         None       None\n",
      "547  6111128001351         None       None\n",
      "548  6111270420024         None       None\n",
      "549  5111463502828         None       None\n",
      "\n",
      "[550 rows x 3 columns]\n"
     ]
    }
   ],
   "source": [
    "query_4 =\"\"\"SELECT *\n",
    "FROM product_info\n",
    "WHERE product_name IS NULL OR product_name = '';\n",
    "\"\"\"\n",
    "print(execute_query(query_4))"
   ]
  },
  {
   "cell_type": "markdown",
   "id": "0478c683",
   "metadata": {},
   "source": [
    "5. Number of unique brands"
   ]
  },
  {
   "cell_type": "code",
   "execution_count": 81,
   "id": "6a263236",
   "metadata": {},
   "outputs": [
    {
     "name": "stdout",
     "output_type": "stream",
     "text": [
      "   unique_brands\n",
      "0           4067\n"
     ]
    }
   ],
   "source": [
    "query_5 = \"\"\"SELECT COUNT(DISTINCT brand) AS unique_brands\n",
    "FROM product_info;\n",
    "\"\"\"\n",
    "print(execute_query(query_5))"
   ]
  },
  {
   "cell_type": "markdown",
   "id": "3073faae",
   "metadata": {},
   "source": [
    "6. Products with code starting with '3'"
   ]
  },
  {
   "cell_type": "code",
   "execution_count": 82,
   "id": "9724102c",
   "metadata": {},
   "outputs": [
    {
     "name": "stdout",
     "output_type": "stream",
     "text": [
      "       product_code                               product_name  \\\n",
      "0     3450601046254                              3450601046254   \n",
      "1     3274080005003                              Eau De Source   \n",
      "2     3046920029759                           Supreme Dark 90%   \n",
      "3     3046920028004                              70% chocolate   \n",
      "4     3017620425035                                    Nutella   \n",
      "...             ...                                        ...   \n",
      "3593  3560070581870                                    Crunchy   \n",
      "3594  3564700562802                           Brioche tranchée   \n",
      "3595  3421557502453  Muesli croustillant avoine myrtilles chia   \n",
      "3596  3041090010866                Bledina mon premier boudoir   \n",
      "3597  3124480183927                   PET 1.5L SCHWEPPES LEMON   \n",
      "\n",
      "                                           brand  \n",
      "0                                   l'arbre vert  \n",
      "1                                     Cristaline  \n",
      "2                                          Lindt  \n",
      "3                               Lindt & Sprüngli  \n",
      "4                                        Ferrero  \n",
      "...                                          ...  \n",
      "3593                                   Carrefour  \n",
      "3594                     Marque Repère, Épi d'Or  \n",
      "3595  Terres et Céréales, Terres et Céréales Bio  \n",
      "3596    Autres secs, Blédina, Blédiscuit, Danone  \n",
      "3597                                   Schweppes  \n",
      "\n",
      "[3598 rows x 3 columns]\n"
     ]
    }
   ],
   "source": [
    "query_6 = \"\"\"SELECT *\n",
    "FROM product_info\n",
    "WHERE product_code LIKE '3%';\n",
    "\"\"\"\n",
    "print(execute_query(query_6))"
   ]
  },
  {
   "cell_type": "markdown",
   "id": "41f5cf8a",
   "metadata": {},
   "source": [
    "nutrient_info Table Queries\n",
    "\n",
    "1. Top 10 products with highest energy-kcal_value"
   ]
  },
  {
   "cell_type": "code",
   "execution_count": 83,
   "id": "db5deef5",
   "metadata": {},
   "outputs": [
    {
     "name": "stdout",
     "output_type": "stream",
     "text": [
      "    product_code  energy_kcal_value\n",
      "0  8480000054647       45793.499044\n",
      "1  8480000054647       45793.499044\n",
      "2  8480000054647       45793.499044\n",
      "3  8480000054647       45793.499044\n",
      "4  8480000054647       45793.499044\n",
      "5  6111259090132        5280.000000\n",
      "6  6111259090132        5280.000000\n",
      "7  6111259090132        5280.000000\n",
      "8  6111259090132        5280.000000\n",
      "9  6111259090132        5280.000000\n"
     ]
    }
   ],
   "source": [
    "query_1 = \"\"\"SELECT product_code, energy_kcal_value\n",
    "FROM nutrient_info\n",
    "ORDER BY energy_kcal_value DESC\n",
    "LIMIT 10;\n",
    "\"\"\"\n",
    "print(execute_query(query_1))"
   ]
  },
  {
   "cell_type": "markdown",
   "id": "7e197bab",
   "metadata": {},
   "source": [
    "2. Average sugars_value per nova-group"
   ]
  },
  {
   "cell_type": "code",
   "execution_count": 84,
   "id": "390d152d",
   "metadata": {},
   "outputs": [
    {
     "name": "stdout",
     "output_type": "stream",
     "text": [
      "   nova_group  avg_sugars\n",
      "0         NaN   12.091473\n",
      "1         1.0    6.069723\n",
      "2         2.0   18.912420\n",
      "3         3.0    7.048082\n",
      "4         4.0   13.627794\n"
     ]
    }
   ],
   "source": [
    "query_2 = \"\"\"SELECT nova_group, AVG(sugars_value) AS avg_sugars\n",
    "FROM nutrient_info\n",
    "GROUP BY nova_group;\n",
    "\"\"\"\n",
    "print(execute_query(query_2))"
   ]
  },
  {
   "cell_type": "markdown",
   "id": "7990b0a0",
   "metadata": {},
   "source": [
    "3. Count products with fat_value > 20g"
   ]
  },
  {
   "cell_type": "code",
   "execution_count": 85,
   "id": "678c071a",
   "metadata": {},
   "outputs": [
    {
     "name": "stdout",
     "output_type": "stream",
     "text": [
      "   high_fat_products\n",
      "0              14636\n"
     ]
    }
   ],
   "source": [
    "query_3 = \"\"\"SELECT COUNT(*) AS high_fat_products\n",
    "FROM nutrient_info\n",
    "WHERE fat_value > 20;\n",
    "\"\"\"\n",
    "print(execute_query(query_3))"
   ]
  },
  {
   "cell_type": "markdown",
   "id": "e76e9021",
   "metadata": {},
   "source": [
    "4. Average carbohydrates_value per product"
   ]
  },
  {
   "cell_type": "code",
   "execution_count": 86,
   "id": "f55eab65",
   "metadata": {},
   "outputs": [
    {
     "name": "stdout",
     "output_type": "stream",
     "text": [
      "   avg_carbs\n",
      "0  29.296141\n"
     ]
    }
   ],
   "source": [
    "query_4 = \"\"\"SELECT AVG(carbohydrates_value) AS avg_carbs\n",
    "FROM nutrient_info;\n",
    "\"\"\"\n",
    "print(execute_query(query_4))"
   ]
  },
  {
   "cell_type": "markdown",
   "id": "d7b8c2b7",
   "metadata": {},
   "source": [
    "5. Products with sodium_value > 1g"
   ]
  },
  {
   "cell_type": "code",
   "execution_count": 87,
   "id": "fc36d211",
   "metadata": {},
   "outputs": [
    {
     "name": "stdout",
     "output_type": "stream",
     "text": [
      "       product_code  energy_kcal_value  energy_kj_value  carbohydrates_value  \\\n",
      "0          50184453              260.0           1100.0                 30.0   \n",
      "1     6111184001562                NaN              NaN                  0.0   \n",
      "2     6111184001197              563.0              NaN                  0.0   \n",
      "3     8715035110106               77.0            325.0                  3.0   \n",
      "4     8076809513753              492.0           2030.0                 11.0   \n",
      "...             ...                ...              ...                  ...   \n",
      "2485  4056489556930              246.0           1024.0                 23.0   \n",
      "2486  5000328149035              490.0           2051.0                 59.4   \n",
      "2487  5060366570086              189.0            791.0                 18.0   \n",
      "2488  8422229110308              499.0           2066.0                  1.0   \n",
      "2489       00133272              259.0           1084.0                  0.5   \n",
      "\n",
      "      sugars_value  fat_value  saturated_fat_value  proteins_value  \\\n",
      "0              1.2        0.5                  0.1            34.0   \n",
      "1              0.0        0.0                  0.0             0.0   \n",
      "2              0.0       62.0                  7.0             1.2   \n",
      "3              0.6        0.0                  0.0            10.0   \n",
      "4              5.0       47.0                  5.3             4.7   \n",
      "...            ...        ...                  ...             ...   \n",
      "2485          15.0       17.0                  2.5             0.1   \n",
      "2486           4.0       23.4                  2.3            10.2   \n",
      "2487          13.6        6.2                  1.0            10.3   \n",
      "2488           0.6       42.0                 17.0            28.0   \n",
      "2489           0.5       16.0                  5.5            29.0   \n",
      "\n",
      "      fiber_value  salt_value  sodium_value  \\\n",
      "0             NaN       10.80         4.320   \n",
      "1             0.0       99.00        39.600   \n",
      "2             NaN        5.00         2.000   \n",
      "3             NaN       16.90         6.760   \n",
      "4             3.0        3.20         1.280   \n",
      "...           ...         ...           ...   \n",
      "2485          0.5        3.65         1.460   \n",
      "2486          0.7        2.86         1.144   \n",
      "2487          4.9       11.50         4.600   \n",
      "2488          NaN        3.20         1.280   \n",
      "2489          0.5        4.60         1.840   \n",
      "\n",
      "     fruits_vegetables_nuts_estimate_100g  nutrition_score_fr  nova_group  \n",
      "0                                    None                23.0         4.0  \n",
      "1                                    None                 NaN         2.0  \n",
      "2                                    None                33.0         NaN  \n",
      "3                                    None                20.0         3.0  \n",
      "4                                    None                27.0         4.0  \n",
      "...                                   ...                 ...         ...  \n",
      "2485                                 None                27.0         4.0  \n",
      "2486                                 None                23.0         4.0  \n",
      "2487                                 None                23.0         3.0  \n",
      "2488                                 None                31.0         NaN  \n",
      "2489                                 None                28.0         3.0  \n",
      "\n",
      "[2490 rows x 14 columns]\n"
     ]
    }
   ],
   "source": [
    "query_5 =\"\"\"SELECT *\n",
    "FROM nutrient_info\n",
    "WHERE sodium_value > 1;\n",
    "\"\"\"\n",
    "print(execute_query(query_5))"
   ]
  },
  {
   "cell_type": "markdown",
   "id": "c62a383f",
   "metadata": {},
   "source": [
    "6. Count products with non-zero fruits/vegetables/nuts content"
   ]
  },
  {
   "cell_type": "code",
   "execution_count": 88,
   "id": "d84bde54",
   "metadata": {},
   "outputs": [
    {
     "name": "stdout",
     "output_type": "stream",
     "text": [
      "   products_with_fvn\n",
      "0                 10\n"
     ]
    }
   ],
   "source": [
    "query_6 =\"\"\"SELECT COUNT(*) AS products_with_fvn\n",
    "FROM nutrient_info\n",
    "WHERE fruits_vegetables_nuts_estimate_100g > 0;\n",
    "\"\"\"\n",
    "print(execute_query(query_6))"
   ]
  },
  {
   "cell_type": "markdown",
   "id": "95ac9bca",
   "metadata": {},
   "source": [
    "7. Products with energy-kcal_value > 500"
   ]
  },
  {
   "cell_type": "code",
   "execution_count": 89,
   "id": "45e22361",
   "metadata": {},
   "outputs": [
    {
     "name": "stdout",
     "output_type": "stream",
     "text": [
      "       product_code  energy_kcal_value  energy_kj_value  carbohydrates_value  \\\n",
      "0     6111099003897              675.0              NaN                 0.20   \n",
      "1     3046920028004              566.0           2350.0                34.00   \n",
      "2     3017620425035              539.0           2252.0                57.50   \n",
      "3     3046920028363              584.0           2418.0                22.00   \n",
      "4     6111184004129              592.0           2435.4                 0.22   \n",
      "...             ...                ...              ...                  ...   \n",
      "8698  5053990175888              521.0              NaN                54.00   \n",
      "8699  6111250476959              507.0              NaN                  NaN   \n",
      "8700  5053827157018              521.0           2169.0                41.00   \n",
      "8701  3660603004828              551.0              NaN                 2.70   \n",
      "8702  3270190020288              743.0           3056.0                 0.60   \n",
      "\n",
      "      sugars_value  fat_value  saturated_fat_value  proteins_value  \\\n",
      "0             0.00      75.00                 34.0            0.10   \n",
      "1            30.00      41.00                 24.0            9.50   \n",
      "2            56.30      30.90                 10.6            6.30   \n",
      "3            14.00      46.00                 27.0           12.50   \n",
      "4             0.05      65.21                  9.8            1.12   \n",
      "...            ...        ...                  ...             ...   \n",
      "8698          3.40      30.00                  2.9            6.60   \n",
      "8699           NaN      29.00                 14.8            5.50   \n",
      "8700         25.00      33.00                 10.0           12.00   \n",
      "8701          0.80      59.70                  4.3            0.60   \n",
      "8702          0.60      82.00                 55.0            0.70   \n",
      "\n",
      "      fiber_value  salt_value  sodium_value  \\\n",
      "0            0.00       0.500        0.2000   \n",
      "1             NaN       0.100        0.0400   \n",
      "2             NaN       0.107        0.0428   \n",
      "3             NaN       0.020        0.0080   \n",
      "4             NaN       1.750        0.7000   \n",
      "...           ...         ...           ...   \n",
      "8698         4.10       0.590        0.2360   \n",
      "8699          NaN       0.490        0.1960   \n",
      "8700         6.60       0.350        0.1400   \n",
      "8701         0.01       1.600        0.6400   \n",
      "8702         0.50       0.040        0.0160   \n",
      "\n",
      "     fruits_vegetables_nuts_estimate_100g  nutrition_score_fr  nova_group  \n",
      "0                                    None                18.0         NaN  \n",
      "1                                    None                25.0         3.0  \n",
      "2                                    None                31.0         4.0  \n",
      "3                                    None                20.0         3.0  \n",
      "4                                    None                12.0         4.0  \n",
      "...                                   ...                 ...         ...  \n",
      "8698                                 None                 7.0         4.0  \n",
      "8699                                 None                 NaN         NaN  \n",
      "8700                                 None                19.0         4.0  \n",
      "8701                                 None                 8.0         4.0  \n",
      "8702                                 None                20.0         2.0  \n",
      "\n",
      "[8703 rows x 14 columns]\n"
     ]
    }
   ],
   "source": [
    "query_7 =\"\"\"SELECT *\n",
    "FROM nutrient_info\n",
    "WHERE energy_kcal_value > 500;\n",
    "\"\"\"\n",
    "print(execute_query(query_7))"
   ]
  },
  {
   "cell_type": "markdown",
   "id": "e5d777ec",
   "metadata": {},
   "source": [
    "derived_metrics Table Queries\n",
    "\n",
    "1. Count products per calorie_category"
   ]
  },
  {
   "cell_type": "code",
   "execution_count": 90,
   "id": "0cde21c4",
   "metadata": {},
   "outputs": [
    {
     "name": "stdout",
     "output_type": "stream",
     "text": [
      "  calorie_category  product_count\n",
      "0             None           3844\n",
      "1             High          31318\n",
      "2              Low          15622\n",
      "3         Moderate           9601\n"
     ]
    }
   ],
   "source": [
    "query_1 = \"\"\"SELECT calorie_category, COUNT(*) AS product_count\n",
    "FROM derived_metrics\n",
    "GROUP BY calorie_category;\n",
    "\"\"\"\n",
    "print(execute_query(query_1))"
   ]
  },
  {
   "cell_type": "markdown",
   "id": "0ddb60e0",
   "metadata": {},
   "source": [
    "2. Count of High Sugar products"
   ]
  },
  {
   "cell_type": "code",
   "execution_count": 91,
   "id": "fdd8c993",
   "metadata": {},
   "outputs": [
    {
     "name": "stdout",
     "output_type": "stream",
     "text": [
      "   high_sugar_products\n",
      "0                12612\n"
     ]
    }
   ],
   "source": [
    "query_2 = \"\"\"SELECT COUNT(*) AS high_sugar_products\n",
    "FROM derived_metrics\n",
    "WHERE sugar_category = 'High Sugar';\n",
    "\"\"\"\n",
    "print(execute_query(query_2))"
   ]
  },
  {
   "cell_type": "markdown",
   "id": "58eaa152",
   "metadata": {},
   "source": [
    "3. Average sugar_to_carb_ratio for High Calorie products"
   ]
  },
  {
   "cell_type": "code",
   "execution_count": 92,
   "id": "d3f2b4ed",
   "metadata": {},
   "outputs": [
    {
     "name": "stdout",
     "output_type": "stream",
     "text": [
      "   avg_ratio\n",
      "0   0.440277\n"
     ]
    }
   ],
   "source": [
    "query_3  = \"\"\"SELECT AVG(sugar_to_carb_ratio) AS avg_ratio\n",
    "FROM derived_metrics\n",
    "WHERE calorie_category = 'High';\n",
    "\"\"\"\n",
    "print(execute_query(query_3))"
   ]
  },
  {
   "cell_type": "markdown",
   "id": "1ab8f005",
   "metadata": {},
   "source": [
    "4. Products that are both High Calorie and High Sugar"
   ]
  },
  {
   "cell_type": "code",
   "execution_count": 93,
   "id": "576f73f6",
   "metadata": {},
   "outputs": [
    {
     "name": "stdout",
     "output_type": "stream",
     "text": [
      "        product_code  sugar_to_carb_ratio calorie_category sugar_category  \\\n",
      "0      7622210449283             0.463768             High     High Sugar   \n",
      "1      3046920028004             0.882353             High     High Sugar   \n",
      "2      3017620425035             0.979130             High     High Sugar   \n",
      "3      3175680011480             0.265625             High     High Sugar   \n",
      "4      6111162000839             1.027230             High     High Sugar   \n",
      "...              ...                  ...              ...            ...   \n",
      "10986  3111900350557             0.339286             High     High Sugar   \n",
      "10987  3421557502422             0.406250             High     High Sugar   \n",
      "10988  7613034975386             0.745501             High     High Sugar   \n",
      "10989  3421557502453             0.338462             High     High Sugar   \n",
      "10990  3041090010866             0.351316             High     High Sugar   \n",
      "\n",
      "      is_ultra_processed  \n",
      "0                    Yes  \n",
      "1                     No  \n",
      "2                    Yes  \n",
      "3                    Yes  \n",
      "4                     No  \n",
      "...                  ...  \n",
      "10986                 No  \n",
      "10987                Yes  \n",
      "10988                Yes  \n",
      "10989                 No  \n",
      "10990                Yes  \n",
      "\n",
      "[10991 rows x 5 columns]\n"
     ]
    }
   ],
   "source": [
    "query_4 =  \"\"\"SELECT *\n",
    "FROM derived_metrics\n",
    "WHERE calorie_category = 'High' AND sugar_category = 'High Sugar';\n",
    "\"\"\"\n",
    "print(execute_query(query_4))\n"
   ]
  },
  {
   "cell_type": "markdown",
   "id": "41f7d436",
   "metadata": {},
   "source": [
    "5. Number of products marked as ultra-processed"
   ]
  },
  {
   "cell_type": "code",
   "execution_count": 94,
   "id": "0a5376a5",
   "metadata": {},
   "outputs": [
    {
     "name": "stdout",
     "output_type": "stream",
     "text": [
      "   ultra_processed_count\n",
      "0                  31785\n"
     ]
    }
   ],
   "source": [
    "query_5 = \"\"\"SELECT COUNT(*) AS ultra_processed_count\n",
    "FROM derived_metrics\n",
    "WHERE is_ultra_processed = 'Yes';\n",
    "\"\"\"\n",
    "print(execute_query(query_5))"
   ]
  },
  {
   "cell_type": "markdown",
   "id": "fbe57d0b",
   "metadata": {},
   "source": [
    "6. Products with sugar_to_carb_ratio > 0.7"
   ]
  },
  {
   "cell_type": "code",
   "execution_count": 95,
   "id": "87353664",
   "metadata": {},
   "outputs": [
    {
     "name": "stdout",
     "output_type": "stream",
     "text": [
      "        product_code  sugar_to_carb_ratio calorie_category  sugar_category  \\\n",
      "0      5449000054227             1.000000              Low  Moderate Sugar   \n",
      "1      3046920028004             0.882353             High      High Sugar   \n",
      "2      3017620425035             0.979130             High      High Sugar   \n",
      "3      5449000147417             1.827957              Low      High Sugar   \n",
      "4      6111162000839             1.027230             High      High Sugar   \n",
      "...              ...                  ...              ...             ...   \n",
      "20545  3229820789910             0.842105              Low       Low Sugar   \n",
      "20546  3250390769811             0.891304              Low  Moderate Sugar   \n",
      "20547  7613034975386             0.745501             High      High Sugar   \n",
      "20548  4002359006975             0.714286              Low       Low Sugar   \n",
      "20549  3124480183927             0.982456              Low  Moderate Sugar   \n",
      "\n",
      "      is_ultra_processed  \n",
      "0                    Yes  \n",
      "1                     No  \n",
      "2                    Yes  \n",
      "3                    Yes  \n",
      "4                     No  \n",
      "...                  ...  \n",
      "20545                 No  \n",
      "20546                 No  \n",
      "20547                Yes  \n",
      "20548                Yes  \n",
      "20549                Yes  \n",
      "\n",
      "[20550 rows x 5 columns]\n"
     ]
    }
   ],
   "source": [
    "query_6 =\"\"\"SELECT *\n",
    "FROM derived_metrics\n",
    "WHERE sugar_to_carb_ratio > 0.7;\n",
    "\"\"\"\n",
    "print(execute_query(query_6))"
   ]
  },
  {
   "cell_type": "markdown",
   "id": "2d41ad34",
   "metadata": {},
   "source": [
    "7. Average sugar_to_carb_ratio per calorie_category"
   ]
  },
  {
   "cell_type": "code",
   "execution_count": 96,
   "id": "54589ee8",
   "metadata": {},
   "outputs": [
    {
     "name": "stdout",
     "output_type": "stream",
     "text": [
      "  calorie_category  avg_ratio\n",
      "0             None   0.650523\n",
      "1             High   0.440277\n",
      "2              Low   0.689457\n",
      "3         Moderate   0.468281\n"
     ]
    }
   ],
   "source": [
    "query_7 = \"\"\"SELECT calorie_category, AVG(sugar_to_carb_ratio) AS avg_ratio\n",
    "FROM derived_metrics\n",
    "GROUP BY calorie_category;\n",
    "\"\"\"\n",
    "print(execute_query(query_7))"
   ]
  },
  {
   "cell_type": "markdown",
   "id": "a05f197e",
   "metadata": {},
   "source": [
    "Join Queries (product_info + nutrient_info + derived_metrics)\n",
    "\n",
    "1. Top 5 brands with most High Calorie products"
   ]
  },
  {
   "cell_type": "code",
   "execution_count": 97,
   "id": "3b4f9213",
   "metadata": {},
   "outputs": [
    {
     "name": "stdout",
     "output_type": "stream",
     "text": [
      "       brand  high_calorie_count\n",
      "0  Hacendado                1002\n",
      "1       None                 747\n",
      "2      Tesco                 633\n",
      "3  Carrefour                 473\n",
      "4  Kellogg's                 309\n"
     ]
    }
   ],
   "source": [
    "query_1 = \"\"\"SELECT p.brand, COUNT(*) AS high_calorie_count\n",
    "FROM product_info p\n",
    "JOIN derived_metrics d ON p.product_code = d.product_code\n",
    "WHERE d.calorie_category = 'High'\n",
    "GROUP BY p.brand\n",
    "ORDER BY high_calorie_count DESC\n",
    "LIMIT 5;\n",
    "\"\"\"\n",
    "print(execute_query(query_1))"
   ]
  },
  {
   "cell_type": "markdown",
   "id": "f51878f6",
   "metadata": {},
   "source": [
    "2. Average energy-kcal_value for each calorie_category"
   ]
  },
  {
   "cell_type": "code",
   "execution_count": 98,
   "id": "b8d97b33",
   "metadata": {},
   "outputs": [
    {
     "name": "stdout",
     "output_type": "stream",
     "text": [
      "  calorie_category  avg_energy\n",
      "0             None  227.686667\n",
      "1             High  433.884405\n",
      "2              Low   50.010721\n",
      "3         Moderate  145.562282\n"
     ]
    }
   ],
   "source": [
    "query_2 = \"\"\"SELECT d.calorie_category, AVG(n.energy_kcal_value) AS avg_energy\n",
    "FROM derived_metrics d\n",
    "JOIN nutrient_info n ON d.product_code = n.product_code\n",
    "GROUP BY d.calorie_category;\n",
    "\"\"\"\n",
    "print(execute_query(query_2))"
   ]
  },
  {
   "cell_type": "markdown",
   "id": "b971d4e6",
   "metadata": {},
   "source": [
    "3. Count of ultra-processed products per brand"
   ]
  },
  {
   "cell_type": "code",
   "execution_count": 99,
   "id": "103f0a53",
   "metadata": {},
   "outputs": [
    {
     "name": "stdout",
     "output_type": "stream",
     "text": [
      "                               brand  ultra_processed_count\n",
      "0                               None                    610\n",
      "1                                                       149\n",
      "2                               1664                      5\n",
      "3               2 KEEP NATURAL BITES                      5\n",
      "4     25l, Red Bull, Zero 0, RedBull                      5\n",
      "...                              ...                    ...\n",
      "2396                           Краси                      5\n",
      "2397                         الخيرات                      5\n",
      "2398                            الكف                      5\n",
      "2399                            حلال                      5\n",
      "2400                            رفيع                      5\n",
      "\n",
      "[2401 rows x 2 columns]\n"
     ]
    }
   ],
   "source": [
    "query_3 = \"\"\"SELECT p.brand, COUNT(*) AS ultra_processed_count\n",
    "FROM product_info p\n",
    "JOIN derived_metrics d ON p.product_code = d.product_code\n",
    "WHERE d.is_ultra_processed = 'Yes'\n",
    "GROUP BY p.brand;\n",
    "\"\"\"\n",
    "print(execute_query(query_3))"
   ]
  },
  {
   "cell_type": "markdown",
   "id": "6c49e9be",
   "metadata": {},
   "source": [
    "4. Products with High Sugar and High Calorie along with brand"
   ]
  },
  {
   "cell_type": "code",
   "execution_count": 100,
   "id": "c644ddb8",
   "metadata": {},
   "outputs": [
    {
     "name": "stdout",
     "output_type": "stream",
     "text": [
      "                                            brand  \\\n",
      "0                                              Lu   \n",
      "1                                Lindt & Sprüngli   \n",
      "2                                         Ferrero   \n",
      "3                                          Gerblé   \n",
      "4                                         Délicia   \n",
      "...                                           ...   \n",
      "10986                                   favrichon   \n",
      "10987                      Terres et Céréales Bio   \n",
      "10988                                      Nestlé   \n",
      "10989  Terres et Céréales, Terres et Céréales Bio   \n",
      "10990    Autres secs, Blédina, Blédiscuit, Danone   \n",
      "\n",
      "                                          product_name calorie_category  \\\n",
      "0                                 Prince Goût Chocolat             High   \n",
      "1                                        70% chocolate             High   \n",
      "2                                              Nutella             High   \n",
      "3                                               Sésame             High   \n",
      "4                                  Confiture de fraise             High   \n",
      "...                                                ...              ...   \n",
      "10986         muesli croustillant Framboise & chocolat             High   \n",
      "10987                  Crok'fondant chocolat noisettes             High   \n",
      "10988  Extrême original - vanille pépites de nougatine             High   \n",
      "10989        Muesli croustillant avoine myrtilles chia             High   \n",
      "10990                      Bledina mon premier boudoir             High   \n",
      "\n",
      "      sugar_category  \n",
      "0         High Sugar  \n",
      "1         High Sugar  \n",
      "2         High Sugar  \n",
      "3         High Sugar  \n",
      "4         High Sugar  \n",
      "...              ...  \n",
      "10986     High Sugar  \n",
      "10987     High Sugar  \n",
      "10988     High Sugar  \n",
      "10989     High Sugar  \n",
      "10990     High Sugar  \n",
      "\n",
      "[10991 rows x 4 columns]\n"
     ]
    }
   ],
   "source": [
    "query_4 =\"\"\"SELECT p.brand, p.product_name, d.calorie_category, d.sugar_category\n",
    "FROM product_info p\n",
    "JOIN derived_metrics d ON p.product_code = d.product_code\n",
    "WHERE d.calorie_category = 'High' AND d.sugar_category = 'High Sugar';\n",
    "\"\"\"\n",
    "print(execute_query(query_4))"
   ]
  },
  {
   "cell_type": "markdown",
   "id": "b3c641bd",
   "metadata": {},
   "source": [
    "5. Average sugar content per brand for ultra-processed products"
   ]
  },
  {
   "cell_type": "code",
   "execution_count": 101,
   "id": "258bc9da",
   "metadata": {},
   "outputs": [
    {
     "name": "stdout",
     "output_type": "stream",
     "text": [
      "                               brand  avg_sugar\n",
      "0                               None  17.169246\n",
      "1                                     14.793277\n",
      "2                               1664   0.000000\n",
      "3               2 KEEP NATURAL BITES  26.000000\n",
      "4     25l, Red Bull, Zero 0, RedBull        NaN\n",
      "...                              ...        ...\n",
      "2396                           Краси   0.700000\n",
      "2397                         الخيرات   0.000000\n",
      "2398                            الكف        NaN\n",
      "2399                            حلال   0.000000\n",
      "2400                            رفيع        NaN\n",
      "\n",
      "[2401 rows x 2 columns]\n"
     ]
    }
   ],
   "source": [
    "query_5 = \"\"\"SELECT p.brand, AVG(n.sugars_value) AS avg_sugar\n",
    "FROM product_info p\n",
    "JOIN nutrient_info n ON p.product_code = n.product_code\n",
    "JOIN derived_metrics d ON p.product_code = d.product_code\n",
    "WHERE d.is_ultra_processed = 'Yes'\n",
    "GROUP BY p.brand;\n",
    "\"\"\"\n",
    "print(execute_query(query_5))"
   ]
  },
  {
   "cell_type": "markdown",
   "id": "b5aa61e0",
   "metadata": {},
   "source": [
    "6. Number of products with fruits/vegetables/nuts content in each calorie_category"
   ]
  },
  {
   "cell_type": "code",
   "execution_count": 102,
   "id": "4e9d9c7a",
   "metadata": {},
   "outputs": [
    {
     "name": "stdout",
     "output_type": "stream",
     "text": [
      "  calorie_category  fvn_products\n",
      "0              Low            25\n",
      "1         Moderate            25\n"
     ]
    }
   ],
   "source": [
    "query_6 = \"\"\"SELECT d.calorie_category, COUNT(*) AS fvn_products\n",
    "FROM derived_metrics d\n",
    "JOIN nutrient_info n ON d.product_code = n.product_code\n",
    "WHERE n.fruits_vegetables_nuts_estimate_100g > 0\n",
    "GROUP BY d.calorie_category;\n",
    "\"\"\"\n",
    "print(execute_query(query_6))"
   ]
  },
  {
   "cell_type": "markdown",
   "id": "7520b7de",
   "metadata": {},
   "source": [
    "7. Top 5 products by sugar_to_carb_ratio with their calorie and sugar category"
   ]
  },
  {
   "cell_type": "code",
   "execution_count": 103,
   "id": "66b0895f",
   "metadata": {},
   "outputs": [
    {
     "name": "stdout",
     "output_type": "stream",
     "text": [
      "                product_name  sugar_to_carb_ratio calorie_category  \\\n",
      "0  Beurre Gastronomique Doux                 16.0             High   \n",
      "1  Beurre Gastronomique Doux                 16.0             High   \n",
      "2  Beurre Gastronomique Doux                 16.0             High   \n",
      "3  Beurre Gastronomique Doux                 16.0             High   \n",
      "4  Beurre Gastronomique Doux                 16.0             High   \n",
      "\n",
      "  sugar_category  \n",
      "0      Low Sugar  \n",
      "1      Low Sugar  \n",
      "2      Low Sugar  \n",
      "3      Low Sugar  \n",
      "4      Low Sugar  \n"
     ]
    }
   ],
   "source": [
    "query_7 = \"\"\"SELECT p.product_name, d.sugar_to_carb_ratio, d.calorie_category, d.sugar_category\n",
    "FROM product_info p\n",
    "JOIN derived_metrics d ON p.product_code = d.product_code\n",
    "ORDER BY d.sugar_to_carb_ratio DESC\n",
    "LIMIT 5;\n",
    "\"\"\"\n",
    "print(execute_query(query_7))"
   ]
  },
  {
   "cell_type": "code",
   "execution_count": null,
   "id": "4674e03a",
   "metadata": {},
   "outputs": [],
   "source": []
  },
  {
   "cell_type": "code",
   "execution_count": null,
   "id": "16c89928-22d3-4145-b026-15f3d8beb403",
   "metadata": {},
   "outputs": [],
   "source": []
  },
  {
   "cell_type": "code",
   "execution_count": null,
   "id": "bade90d5-8a01-4ee0-8d1a-74982bfcef0d",
   "metadata": {},
   "outputs": [],
   "source": []
  },
  {
   "cell_type": "code",
   "execution_count": null,
   "id": "8f13c183-38e4-4e1a-8a9b-38852e2917a2",
   "metadata": {},
   "outputs": [],
   "source": []
  },
  {
   "cell_type": "code",
   "execution_count": null,
   "id": "fa7c8419-1d20-4eaf-a0eb-8dcbc38d226c",
   "metadata": {},
   "outputs": [],
   "source": []
  }
 ],
 "metadata": {
  "kernelspec": {
   "display_name": "Python 3 (ipykernel)",
   "language": "python",
   "name": "python3"
  },
  "language_info": {
   "codemirror_mode": {
    "name": "ipython",
    "version": 3
   },
   "file_extension": ".py",
   "mimetype": "text/x-python",
   "name": "python",
   "nbconvert_exporter": "python",
   "pygments_lexer": "ipython3",
   "version": "3.12.9"
  }
 },
 "nbformat": 4,
 "nbformat_minor": 5
}
