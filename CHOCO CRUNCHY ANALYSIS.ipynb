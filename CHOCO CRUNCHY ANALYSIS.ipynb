{
 "cells": [
  {
   "cell_type": "markdown",
   "id": "754a120b-8668-49f3-bc11-ec6dc1998328",
   "metadata": {},
   "source": [
    "# CHOCO CRUNCHY ANALYSIS"
   ]
  },
  {
   "cell_type": "code",
   "execution_count": null,
   "id": "05a9fa93",
   "metadata": {},
   "outputs": [],
   "source": [
    "import pandas as pd\n",
    "import requests\n",
    "\n",
    "all_records = []\n",
    "page = 1\n",
    "while page<=120:\n",
    "    params = {\n",
    "        \"size\": 100,\n",
    "        \"page\": page\n",
    "    }\n",
    "    response = requests.get(f'https://world.openfoodfacts.org/api/v2/search?categories=chocolates&fields=code,product_name,brands,nutriments&page_size=100&page={page}', params= params).json()\n",
    "    records = response.get('products', [])\n",
    "    all_records.extend(records)\n",
    "    page += 1\n",
    "df = pd.DataFrame(all_records)"
   ]
  },
  {
   "cell_type": "code",
   "execution_count": null,
   "id": "89edddfa",
   "metadata": {},
   "outputs": [],
   "source": [
    "df.info()"
   ]
  },
  {
   "cell_type": "code",
   "execution_count": null,
   "id": "178ba523",
   "metadata": {},
   "outputs": [],
   "source": [
    "df.head()"
   ]
  },
  {
   "cell_type": "code",
   "execution_count": null,
   "id": "6ccf7fa5",
   "metadata": {},
   "outputs": [],
   "source": [
    "nutriments_df = pd.json_normalize(df['nutriments'])"
   ]
  },
  {
   "cell_type": "code",
   "execution_count": null,
   "id": "8d1f049d",
   "metadata": {},
   "outputs": [],
   "source": [
    "nutriments_df.columns"
   ]
  },
  {
   "cell_type": "code",
   "execution_count": null,
   "id": "c96a0090",
   "metadata": {},
   "outputs": [],
   "source": [
    "req_nutriments_df = nutriments_df[['energy-kcal', 'energy-kj','carbohydrates','sugars','fat','saturated-fat','proteins','fiber','salt','sodium','nova-group','nutrition-score-fr','fruits-vegetables-nuts-estimate-from-ingredients']]"
   ]
  },
  {
   "cell_type": "code",
   "execution_count": null,
   "id": "2076d355",
   "metadata": {},
   "outputs": [],
   "source": [
    "req_nutriments_df.info()"
   ]
  },
  {
   "cell_type": "code",
   "execution_count": null,
   "id": "f4472dfb",
   "metadata": {},
   "outputs": [],
   "source": [
    "tot_df = pd.concat([df[['code','product_name','brands']], req_nutriments_df], axis=1)"
   ]
  },
  {
   "cell_type": "code",
   "execution_count": null,
   "id": "03aca28b",
   "metadata": {},
   "outputs": [],
   "source": [
    "tot_df.info()"
   ]
  },
  {
   "cell_type": "code",
   "execution_count": null,
   "id": "64ac7602",
   "metadata": {},
   "outputs": [],
   "source": [
    "tot_df.head()"
   ]
  },
  {
   "cell_type": "code",
   "execution_count": null,
   "id": "ddbb2742",
   "metadata": {},
   "outputs": [],
   "source": [
    "# 1. Sugar-to-Carb Ratio\n",
    "tot_df[\"sugar_to_carb_ratio\"] = tot_df[\"sugars\"] / tot_df[\"carbohydrates\"]\n",
    "tot_df[\"sugar_to_carb_ratio\"] = tot_df[\"sugar_to_carb_ratio\"].replace([float(\"inf\"), -float(\"inf\")], None)\n",
    "\n",
    "# 2. Calorie Category\n",
    "def calorie_category(kcal):\n",
    "    if pd.isna(kcal):\n",
    "        return None\n",
    "    elif kcal <= 100:\n",
    "        return \"Low\"\n",
    "    elif kcal <= 200:\n",
    "        return \"Moderate\"\n",
    "    else:\n",
    "        return \"High\"\n",
    "\n",
    "tot_df[\"calorie_category\"] = tot_df[\"energy-kcal\"].apply(calorie_category)\n",
    "\n",
    "# 3. Sugar Category\n",
    "def sugar_category(sugar):\n",
    "    if pd.isna(sugar):\n",
    "        return None\n",
    "    elif sugar <= 5:\n",
    "        return \"Low Sugar\"\n",
    "    elif sugar <= 15:\n",
    "        return \"Moderate Sugar\"\n",
    "    else:\n",
    "        return \"High Sugar\"\n",
    "\n",
    "tot_df[\"sugar_category\"] = tot_df[\"sugars\"].apply(sugar_category)\n",
    "\n",
    "# 4. Ultra-Processed Flag\n",
    "tot_df[\"is_ultra_processed\"] = tot_df[\"nova-group\"].apply(\n",
    "    lambda x: \"Yes\" if x == 4 else (\"No\" if pd.notna(x) else None)\n",
    ")\n"
   ]
  },
  {
   "cell_type": "code",
   "execution_count": null,
   "id": "4b709472",
   "metadata": {},
   "outputs": [],
   "source": [
    "tot_df.info()"
   ]
  },
  {
   "cell_type": "markdown",
   "id": "66f03fd0",
   "metadata": {},
   "source": [
    "EDA"
   ]
  },
  {
   "cell_type": "code",
   "execution_count": null,
   "id": "e6972061",
   "metadata": {},
   "outputs": [],
   "source": [
    "tot_df.shape"
   ]
  },
  {
   "cell_type": "code",
   "execution_count": null,
   "id": "77e30e82",
   "metadata": {},
   "outputs": [],
   "source": [
    "tot_df.describe()"
   ]
  },
  {
   "cell_type": "code",
   "execution_count": null,
   "id": "338e5983",
   "metadata": {},
   "outputs": [],
   "source": [
    "print(f\"Total number od Brands: {tot_df['brands'].nunique()}\")\n",
    "print(f\"Total number od Product: {tot_df['product_name'].nunique()}\")"
   ]
  },
  {
   "cell_type": "markdown",
   "id": "7300d395",
   "metadata": {},
   "source": [
    "Missing Values"
   ]
  },
  {
   "cell_type": "code",
   "execution_count": null,
   "id": "e7e535c2",
   "metadata": {},
   "outputs": [],
   "source": [
    "# Count missing values per column\n",
    "missing = tot_df.isnull().sum().sort_values(ascending=False)\n",
    "print(\"Missing values:\\n\", missing)\n",
    "\n",
    "# Percentage of missing values\n",
    "missing_percent = (tot_df.isnull().mean() * 100).round(2)\n",
    "print(\"Missing %:\\n\", missing_percent)\n"
   ]
  },
  {
   "cell_type": "markdown",
   "id": "65e2e2db",
   "metadata": {},
   "source": [
    "Distributions of Key Nutrients"
   ]
  },
  {
   "cell_type": "code",
   "execution_count": null,
   "id": "84292e9a",
   "metadata": {},
   "outputs": [],
   "source": [
    "import matplotlib.pyplot as plt\n",
    "\n",
    "# Histogram of energy (kcal)\n",
    "tot_df[\"energy-kcal\"].dropna().hist(bins=30, edgecolor=\"black\")\n",
    "plt.title(\"Distribution of Energy (kcal)\")\n",
    "plt.xlabel(\"Calories (kcal per 100g)\")\n",
    "plt.ylabel(\"Count\")\n",
    "plt.show()\n",
    "\n",
    "# Histogram of sugars\n",
    "tot_df[\"sugars\"].dropna().hist(bins=30, edgecolor=\"black\")\n",
    "plt.title(\"Distribution of Sugars (g/100g)\")\n",
    "plt.xlabel(\"Sugars (g)\")\n",
    "plt.ylabel(\"Count\")\n",
    "plt.show()\n",
    "\n",
    "# Histogram of sugar-to-carb ratio\n",
    "tot_df[\"sugar_to_carb_ratio\"].dropna().hist(bins=30, edgecolor=\"black\")\n",
    "plt.title(\"Distribution of Sugar-to-Carb Ratio\")\n",
    "plt.xlabel(\"Ratio\")\n",
    "plt.ylabel(\"Count\")\n",
    "plt.show()\n"
   ]
  },
  {
   "cell_type": "markdown",
   "id": "bbd83aa6",
   "metadata": {},
   "source": [
    "Category-Based Analysis"
   ]
  },
  {
   "cell_type": "code",
   "execution_count": null,
   "id": "a271ec8f",
   "metadata": {},
   "outputs": [],
   "source": [
    "# Bar plot for calorie categories\n",
    "tot_df[\"calorie_category\"].value_counts().plot(kind=\"bar\", color=\"skyblue\", edgecolor=\"black\")\n",
    "plt.title(\"Number of Products by Calorie Category\")\n",
    "plt.ylabel(\"Count\")\n",
    "plt.show()\n",
    "\n",
    "# Bar plot for sugar categories\n",
    "tot_df[\"sugar_category\"].value_counts().plot(kind=\"bar\", color=\"lightcoral\", edgecolor=\"black\")\n",
    "plt.title(\"Number of Products by Sugar Category\")\n",
    "plt.ylabel(\"Count\")\n",
    "plt.show()\n",
    "\n",
    "# Pie chart for NOVA groups\n",
    "tot_df[\"nova-group\"].value_counts().plot(kind=\"pie\", autopct='%1.1f%%', startangle=90, colors=[\"lightgreen\",\"orange\",\"skyblue\",\"red\"])\n",
    "plt.title(\"Proportion of Products by NOVA Group\")\n",
    "plt.ylabel(\"\")\n",
    "plt.show()\n",
    "\n",
    "# Compare ultra-processed vs others\n",
    "tot_df[\"is_ultra_processed\"].value_counts().plot(kind=\"bar\", color=\"purple\", edgecolor=\"black\")\n",
    "plt.title(\"Ultra-Processed vs Others\")\n",
    "plt.ylabel(\"Count\")\n",
    "plt.show()\n"
   ]
  },
  {
   "cell_type": "markdown",
   "id": "bf15139e",
   "metadata": {},
   "source": [
    "Relationships"
   ]
  },
  {
   "cell_type": "code",
   "execution_count": null,
   "id": "82d70b3d",
   "metadata": {},
   "outputs": [],
   "source": [
    "import seaborn as sns\n",
    "\n",
    "# Scatter: Calories vs Sugars\n",
    "sns.scatterplot(x=\"energy-kcal\", y=\"sugars\", data=tot_df, hue=\"is_ultra_processed\", alpha=0.7)\n",
    "plt.title(\"Calories vs Sugars (colored by processing level)\")\n",
    "plt.show()\n",
    "\n",
    "# Boxplot: Calories by Brand (top 10 brands)\n",
    "top_brands = tot_df[\"brands\"].value_counts().head(10).index\n",
    "sns.boxplot(x=\"brands\", y=\"energy-kcal\", data=tot_df[tot_df[\"brands\"].isin(top_brands)])\n",
    "plt.xticks(rotation=45)\n",
    "plt.title(\"Calories per 100g across Top 10 Brands\")\n",
    "plt.show()\n",
    "\n",
    "# Correlation Heatmap\n",
    "plt.figure(figsize=(10,6))\n",
    "sns.heatmap(tot_df[[\"energy-kcal\", \"sugars\", \"carbohydrates\", \"fat\", \"proteins\", \"fiber\", \"salt\", \"sugar_to_carb_ratio\"]].corr(), annot=True, cmap=\"coolwarm\", center=0)\n",
    "plt.title(\"Correlation Heatmap of Nutritional Values\")\n",
    "plt.show()\n"
   ]
  },
  {
   "cell_type": "markdown",
   "id": "3d7d4579",
   "metadata": {},
   "source": [
    "Brand-Level insights"
   ]
  },
  {
   "cell_type": "code",
   "execution_count": null,
   "id": "22f2ff3b",
   "metadata": {},
   "outputs": [],
   "source": [
    "# Top 10 brands with highest average calories\n",
    "brand_calories = tot_df.groupby(\"brands\")[\"energy-kcal\"].mean().sort_values(ascending=False).head(10)\n",
    "brand_calories.plot(kind=\"bar\", color=\"brown\", edgecolor=\"black\")\n",
    "plt.title(\"Top 10 Brands by Average Calories\")\n",
    "plt.ylabel(\"Avg kcal per 100g\")\n",
    "plt.show()\n",
    "\n",
    "# Top 10 brands with highest average sugar\n",
    "brand_sugar = tot_df.groupby(\"brands\")[\"sugars\"].mean().sort_values(ascending=False).head(10)\n",
    "brand_sugar.plot(kind=\"bar\", color=\"darkred\", edgecolor=\"black\")\n",
    "plt.title(\"Top 10 Brands by Average Sugar Content\")\n",
    "plt.ylabel(\"Avg sugars (g per 100g)\")\n",
    "plt.show()\n"
   ]
  },
  {
   "cell_type": "markdown",
   "id": "707c5077",
   "metadata": {},
   "source": [
    "SQL Database"
   ]
  },
  {
   "cell_type": "code",
   "execution_count": null,
   "id": "bd3743fa",
   "metadata": {},
   "outputs": [],
   "source": [
    "product_df = tot_df[['code','product_name','brands']]\n",
    "nutrient_df = tot_df[['code','energy-kcal', 'energy-kj','carbohydrates','sugars','fat','saturated-fat','proteins','fiber','salt','sodium','nova-group','nutrition-score-fr','fruits-vegetables-nuts-estimate-from-ingredients']]\n",
    "derived_df = tot_df[['code','sugar_to_carb_ratio','calorie_category','sugar_category','is_ultra_processed']]\n"
   ]
  },
  {
   "cell_type": "code",
   "execution_count": null,
   "id": "cf5dc60b",
   "metadata": {},
   "outputs": [],
   "source": [
    "import sqlite3\n",
    "\n",
    "# ----------------- Connect / Create DB -----------------\n",
    "conn = sqlite3.connect(\"chocolates.db\")  # will create if not exists\n",
    "cursor = conn.cursor()\n",
    "\n",
    "# ----------------- Create Tables -----------------\n",
    "cursor.execute('''CREATE TABLE IF NOT EXISTS product_info (\n",
    "                    product_code TEXT PRIMARY KEY,\n",
    "                    product_name TEXT,\n",
    "                    brand TEXT)''')\n",
    "\n",
    "cursor.execute('''CREATE TABLE IF NOT EXISTS nutrient_info (\n",
    "                    product_code TEXT,\n",
    "                    energy_kcal_value FLOAT,\n",
    "                    energy_kj_value FLOAT,\n",
    "                    carbohydrates_value FLOAT,\n",
    "                    sugars_value FLOAT,\n",
    "                    fat_value FLOAT,\n",
    "                    saturated_fat_value FLOAT,\n",
    "                    proteins_value FLOAT,\n",
    "                    fiber_value FLOAT,\n",
    "                    salt_value FLOAT,\n",
    "                    sodium_value FLOAT,\n",
    "                    fruits_vegetables_nuts_estimate_100g FLOAT,\n",
    "                    nutrition_score_fr INTEGER,\n",
    "                    nova_group INTEGER,\n",
    "                    FOREIGN KEY (product_code) REFERENCES product_info(product_code))''')\n",
    "\n",
    "cursor.execute('''CREATE TABLE IF NOT EXISTS derived_metrics (\n",
    "                    product_code TEXT,\n",
    "                    sugar_to_carb_ratio FLOAT,\n",
    "                    calorie_category TEXT,\n",
    "                    sugar_category TEXT,\n",
    "                    is_ultra_processed TEXT,\n",
    "                    FOREIGN KEY (product_code) REFERENCES product_info(product_code))''')\n",
    "\n",
    "conn.commit()\n",
    "\n",
    "# ----------------- Insert Data -----------------\n",
    "# Example DataFrames: product_df, nutrient_df, derived_df\n",
    "for _, row in product_df.iterrows():\n",
    "    cursor.execute('''INSERT OR REPLACE INTO product_info (product_code, product_name, brand)\n",
    "                      VALUES (?, ?, ?)''',\n",
    "                   (row['code'], row['product_name'], row['brands']))\n",
    "\n",
    "for _, row in nutrient_df.iterrows():\n",
    "    cursor.execute('''INSERT OR REPLACE INTO nutrient_info\n",
    "                      (product_code, energy_kcal_value, energy_kj_value, carbohydrates_value,\n",
    "                       sugars_value, fat_value, saturated_fat_value, proteins_value, fiber_value,\n",
    "                       salt_value, sodium_value, fruits_vegetables_nuts_estimate_100g,\n",
    "                       nutrition_score_fr, nova_group)\n",
    "                      VALUES (?, ?, ?, ?, ?, ?, ?, ?, ?, ?, ?, ?, ?, ?)''',\n",
    "                   (row['code'], row['energy-kcal'], row['energy-kj'], row['carbohydrates'],\n",
    "                    row['sugars'], row['fat'], row['saturated-fat'], row['proteins'], row['fiber'],\n",
    "                    row['salt'], row['sodium'], row['fruits-vegetables-nuts-estimate-from-ingredients'],\n",
    "                    row['nutrition-score-fr'], row['nova-group']))\n",
    "\n",
    "for _, row in derived_df.iterrows():\n",
    "    cursor.execute('''INSERT OR REPLACE INTO derived_metrics\n",
    "                      (product_code, sugar_to_carb_ratio, calorie_category, sugar_category, is_ultra_processed)\n",
    "                      VALUES (?, ?, ?, ?, ?)''',\n",
    "                   (row['code'], row['sugar_to_carb_ratio'], row['calorie_category'],\n",
    "                    row['sugar_category'], row['is_ultra_processed']))\n",
    "\n",
    "conn.commit()\n",
    "#conn.close()\n"
   ]
  },
  {
   "cell_type": "code",
   "execution_count": null,
   "id": "a33a8c50",
   "metadata": {},
   "outputs": [],
   "source": [
    "def execute_query(query):\n",
    "    query_df = pd.read_sql(query, conn)\n",
    "    return query_df"
   ]
  },
  {
   "cell_type": "markdown",
   "id": "08ad583e",
   "metadata": {},
   "source": [
    "product_info Table Queries\n",
    "1. Count products per brand"
   ]
  },
  {
   "cell_type": "code",
   "execution_count": null,
   "id": "be1fe82b",
   "metadata": {},
   "outputs": [],
   "source": [
    "query_1 = \"\"\"SELECT brand, COUNT(*) AS product_count\n",
    "FROM product_info\n",
    "GROUP BY brand;\"\"\"\n",
    "print(execute_query(query_1))"
   ]
  },
  {
   "cell_type": "markdown",
   "id": "4dd2ecba",
   "metadata": {},
   "source": [
    "2. Count unique products per brand"
   ]
  },
  {
   "cell_type": "code",
   "execution_count": null,
   "id": "1369c301",
   "metadata": {},
   "outputs": [],
   "source": [
    "query_2  = \"\"\"SELECT brand, COUNT(DISTINCT product_name) AS unique_products\n",
    "FROM product_info\n",
    "GROUP BY brand;\"\"\"\n",
    "print(execute_query(query_2))"
   ]
  },
  {
   "cell_type": "markdown",
   "id": "7f909956",
   "metadata": {},
   "source": [
    "3. Top 5 brands by product count"
   ]
  },
  {
   "cell_type": "code",
   "execution_count": null,
   "id": "40da4c01",
   "metadata": {},
   "outputs": [],
   "source": [
    "query_3 = \"\"\"SELECT brand, COUNT(*) AS product_count\n",
    "FROM product_info\n",
    "GROUP BY brand\n",
    "ORDER BY product_count DESC\n",
    "LIMIT 5;\n",
    "\"\"\"\n",
    "print(execute_query(query_3))"
   ]
  },
  {
   "cell_type": "markdown",
   "id": "e8c4822e",
   "metadata": {},
   "source": [
    "4. Products with missing product name"
   ]
  },
  {
   "cell_type": "code",
   "execution_count": null,
   "id": "68892c77",
   "metadata": {},
   "outputs": [],
   "source": [
    "query_4 =\"\"\"SELECT *\n",
    "FROM product_info\n",
    "WHERE product_name IS NULL OR product_name = '';\n",
    "\"\"\"\n",
    "print(execute_query(query_4))"
   ]
  },
  {
   "cell_type": "markdown",
   "id": "0478c683",
   "metadata": {},
   "source": [
    "5. Number of unique brands"
   ]
  },
  {
   "cell_type": "code",
   "execution_count": null,
   "id": "6a263236",
   "metadata": {},
   "outputs": [],
   "source": [
    "query_5 = \"\"\"SELECT COUNT(DISTINCT brand) AS unique_brands\n",
    "FROM product_info;\n",
    "\"\"\"\n",
    "print(execute_query(query_5))"
   ]
  },
  {
   "cell_type": "markdown",
   "id": "3073faae",
   "metadata": {},
   "source": [
    "6. Products with code starting with '3'"
   ]
  },
  {
   "cell_type": "code",
   "execution_count": null,
   "id": "9724102c",
   "metadata": {},
   "outputs": [],
   "source": [
    "query_6 = \"\"\"SELECT *\n",
    "FROM product_info\n",
    "WHERE product_code LIKE '3%';\n",
    "\"\"\"\n",
    "print(execute_query(query_6))"
   ]
  },
  {
   "cell_type": "markdown",
   "id": "41f5cf8a",
   "metadata": {},
   "source": [
    "nutrient_info Table Queries\n",
    "\n",
    "1. Top 10 products with highest energy-kcal_value"
   ]
  },
  {
   "cell_type": "code",
   "execution_count": null,
   "id": "db5deef5",
   "metadata": {},
   "outputs": [],
   "source": [
    "query_1 = \"\"\"SELECT product_code, energy_kcal_value\n",
    "FROM nutrient_info\n",
    "ORDER BY energy_kcal_value DESC\n",
    "LIMIT 10;\n",
    "\"\"\"\n",
    "print(execute_query(query_1))"
   ]
  },
  {
   "cell_type": "markdown",
   "id": "7e197bab",
   "metadata": {},
   "source": [
    "2. Average sugars_value per nova-group"
   ]
  },
  {
   "cell_type": "code",
   "execution_count": null,
   "id": "390d152d",
   "metadata": {},
   "outputs": [],
   "source": [
    "query_2 = \"\"\"SELECT nova_group, AVG(sugars_value) AS avg_sugars\n",
    "FROM nutrient_info\n",
    "GROUP BY nova_group;\n",
    "\"\"\"\n",
    "print(execute_query(query_2))"
   ]
  },
  {
   "cell_type": "markdown",
   "id": "7990b0a0",
   "metadata": {},
   "source": [
    "3. Count products with fat_value > 20g"
   ]
  },
  {
   "cell_type": "code",
   "execution_count": null,
   "id": "678c071a",
   "metadata": {},
   "outputs": [],
   "source": [
    "query_3 = \"\"\"SELECT COUNT(*) AS high_fat_products\n",
    "FROM nutrient_info\n",
    "WHERE fat_value > 20;\n",
    "\"\"\"\n",
    "print(execute_query(query_3))"
   ]
  },
  {
   "cell_type": "markdown",
   "id": "e76e9021",
   "metadata": {},
   "source": [
    "4. Average carbohydrates_value per product"
   ]
  },
  {
   "cell_type": "code",
   "execution_count": null,
   "id": "f55eab65",
   "metadata": {},
   "outputs": [],
   "source": [
    "query_4 = \"\"\"SELECT AVG(carbohydrates_value) AS avg_carbs\n",
    "FROM nutrient_info;\n",
    "\"\"\"\n",
    "print(execute_query(query_4))"
   ]
  },
  {
   "cell_type": "markdown",
   "id": "d7b8c2b7",
   "metadata": {},
   "source": [
    "5. Products with sodium_value > 1g"
   ]
  },
  {
   "cell_type": "code",
   "execution_count": null,
   "id": "fc36d211",
   "metadata": {},
   "outputs": [],
   "source": [
    "query_5 =\"\"\"SELECT *\n",
    "FROM nutrient_info\n",
    "WHERE sodium_value > 1;\n",
    "\"\"\"\n",
    "print(execute_query(query_5))"
   ]
  },
  {
   "cell_type": "markdown",
   "id": "c62a383f",
   "metadata": {},
   "source": [
    "6. Count products with non-zero fruits/vegetables/nuts content"
   ]
  },
  {
   "cell_type": "code",
   "execution_count": null,
   "id": "d84bde54",
   "metadata": {},
   "outputs": [],
   "source": [
    "query_6 =\"\"\"SELECT COUNT(*) AS products_with_fvn\n",
    "FROM nutrient_info\n",
    "WHERE fruits_vegetables_nuts_estimate_100g > 0;\n",
    "\"\"\"\n",
    "print(execute_query(query_6))"
   ]
  },
  {
   "cell_type": "markdown",
   "id": "95ac9bca",
   "metadata": {},
   "source": [
    "7. Products with energy-kcal_value > 500"
   ]
  },
  {
   "cell_type": "code",
   "execution_count": null,
   "id": "45e22361",
   "metadata": {},
   "outputs": [],
   "source": [
    "query_7 =\"\"\"SELECT *\n",
    "FROM nutrient_info\n",
    "WHERE energy_kcal_value > 500;\n",
    "\"\"\"\n",
    "print(execute_query(query_7))"
   ]
  },
  {
   "cell_type": "markdown",
   "id": "e5d777ec",
   "metadata": {},
   "source": [
    "derived_metrics Table Queries\n",
    "\n",
    "1. Count products per calorie_category"
   ]
  },
  {
   "cell_type": "code",
   "execution_count": null,
   "id": "0cde21c4",
   "metadata": {},
   "outputs": [],
   "source": [
    "query_1 = \"\"\"SELECT calorie_category, COUNT(*) AS product_count\n",
    "FROM derived_metrics\n",
    "GROUP BY calorie_category;\n",
    "\"\"\"\n",
    "print(execute_query(query_1))"
   ]
  },
  {
   "cell_type": "markdown",
   "id": "0ddb60e0",
   "metadata": {},
   "source": [
    "2. Count of High Sugar products"
   ]
  },
  {
   "cell_type": "code",
   "execution_count": null,
   "id": "fdd8c993",
   "metadata": {},
   "outputs": [],
   "source": [
    "query_2 = \"\"\"SELECT COUNT(*) AS high_sugar_products\n",
    "FROM derived_metrics\n",
    "WHERE sugar_category = 'High Sugar';\n",
    "\"\"\"\n",
    "print(execute_query(query_2))"
   ]
  },
  {
   "cell_type": "markdown",
   "id": "58eaa152",
   "metadata": {},
   "source": [
    "3. Average sugar_to_carb_ratio for High Calorie products"
   ]
  },
  {
   "cell_type": "code",
   "execution_count": null,
   "id": "d3f2b4ed",
   "metadata": {},
   "outputs": [],
   "source": [
    "query_3  = \"\"\"SELECT AVG(sugar_to_carb_ratio) AS avg_ratio\n",
    "FROM derived_metrics\n",
    "WHERE calorie_category = 'High';\n",
    "\"\"\"\n",
    "print(execute_query(query_3))"
   ]
  },
  {
   "cell_type": "markdown",
   "id": "1ab8f005",
   "metadata": {},
   "source": [
    "4. Products that are both High Calorie and High Sugar"
   ]
  },
  {
   "cell_type": "code",
   "execution_count": null,
   "id": "576f73f6",
   "metadata": {},
   "outputs": [],
   "source": [
    "query_4 =  \"\"\"SELECT *\n",
    "FROM derived_metrics\n",
    "WHERE calorie_category = 'High' AND sugar_category = 'High Sugar';\n",
    "\"\"\"\n",
    "print(execute_query(query_4))\n"
   ]
  },
  {
   "cell_type": "markdown",
   "id": "41f7d436",
   "metadata": {},
   "source": [
    "5. Number of products marked as ultra-processed"
   ]
  },
  {
   "cell_type": "code",
   "execution_count": null,
   "id": "0a5376a5",
   "metadata": {},
   "outputs": [],
   "source": [
    "query_5 = \"\"\"SELECT COUNT(*) AS ultra_processed_count\n",
    "FROM derived_metrics\n",
    "WHERE is_ultra_processed = 'Yes';\n",
    "\"\"\"\n",
    "print(execute_query(query_5))"
   ]
  },
  {
   "cell_type": "markdown",
   "id": "fbe57d0b",
   "metadata": {},
   "source": [
    "6. Products with sugar_to_carb_ratio > 0.7"
   ]
  },
  {
   "cell_type": "code",
   "execution_count": null,
   "id": "87353664",
   "metadata": {},
   "outputs": [],
   "source": [
    "query_6 =\"\"\"SELECT *\n",
    "FROM derived_metrics\n",
    "WHERE sugar_to_carb_ratio > 0.7;\n",
    "\"\"\"\n",
    "print(execute_query(query_6))"
   ]
  },
  {
   "cell_type": "markdown",
   "id": "2d41ad34",
   "metadata": {},
   "source": [
    "7. Average sugar_to_carb_ratio per calorie_category"
   ]
  },
  {
   "cell_type": "code",
   "execution_count": null,
   "id": "54589ee8",
   "metadata": {},
   "outputs": [],
   "source": [
    "query_7 = \"\"\"SELECT calorie_category, AVG(sugar_to_carb_ratio) AS avg_ratio\n",
    "FROM derived_metrics\n",
    "GROUP BY calorie_category;\n",
    "\"\"\"\n",
    "print(execute_query(query_7))"
   ]
  },
  {
   "cell_type": "markdown",
   "id": "a05f197e",
   "metadata": {},
   "source": [
    "Join Queries (product_info + nutrient_info + derived_metrics)\n",
    "\n",
    "1. Top 5 brands with most High Calorie products"
   ]
  },
  {
   "cell_type": "code",
   "execution_count": null,
   "id": "3b4f9213",
   "metadata": {},
   "outputs": [],
   "source": [
    "query_1 = \"\"\"SELECT p.brand, COUNT(*) AS high_calorie_count\n",
    "FROM product_info p\n",
    "JOIN derived_metrics d ON p.product_code = d.product_code\n",
    "WHERE d.calorie_category = 'High'\n",
    "GROUP BY p.brand\n",
    "ORDER BY high_calorie_count DESC\n",
    "LIMIT 5;\n",
    "\"\"\"\n",
    "print(execute_query(query_1))"
   ]
  },
  {
   "cell_type": "markdown",
   "id": "f51878f6",
   "metadata": {},
   "source": [
    "2. Average energy-kcal_value for each calorie_category"
   ]
  },
  {
   "cell_type": "code",
   "execution_count": null,
   "id": "b8d97b33",
   "metadata": {},
   "outputs": [],
   "source": [
    "query_2 = \"\"\"SELECT d.calorie_category, AVG(n.energy_kcal_value) AS avg_energy\n",
    "FROM derived_metrics d\n",
    "JOIN nutrient_info n ON d.product_code = n.product_code\n",
    "GROUP BY d.calorie_category;\n",
    "\"\"\"\n",
    "print(execute_query(query_2))"
   ]
  },
  {
   "cell_type": "markdown",
   "id": "b971d4e6",
   "metadata": {},
   "source": [
    "3. Count of ultra-processed products per brand"
   ]
  },
  {
   "cell_type": "code",
   "execution_count": null,
   "id": "103f0a53",
   "metadata": {},
   "outputs": [],
   "source": [
    "query_3 = \"\"\"SELECT p.brand, COUNT(*) AS ultra_processed_count\n",
    "FROM product_info p\n",
    "JOIN derived_metrics d ON p.product_code = d.product_code\n",
    "WHERE d.is_ultra_processed = 'Yes'\n",
    "GROUP BY p.brand;\n",
    "\"\"\"\n",
    "print(execute_query(query_3))"
   ]
  },
  {
   "cell_type": "markdown",
   "id": "6c49e9be",
   "metadata": {},
   "source": [
    "4. Products with High Sugar and High Calorie along with brand"
   ]
  },
  {
   "cell_type": "code",
   "execution_count": null,
   "id": "c644ddb8",
   "metadata": {},
   "outputs": [],
   "source": [
    "query_4 =\"\"\"SELECT p.brand, p.product_name, d.calorie_category, d.sugar_category\n",
    "FROM product_info p\n",
    "JOIN derived_metrics d ON p.product_code = d.product_code\n",
    "WHERE d.calorie_category = 'High' AND d.sugar_category = 'High Sugar';\n",
    "\"\"\"\n",
    "print(execute_query(query_4))"
   ]
  },
  {
   "cell_type": "markdown",
   "id": "b3c641bd",
   "metadata": {},
   "source": [
    "5. Average sugar content per brand for ultra-processed products"
   ]
  },
  {
   "cell_type": "code",
   "execution_count": null,
   "id": "258bc9da",
   "metadata": {},
   "outputs": [],
   "source": [
    "query_5 = \"\"\"SELECT p.brand, AVG(n.sugars_value) AS avg_sugar\n",
    "FROM product_info p\n",
    "JOIN nutrient_info n ON p.product_code = n.product_code\n",
    "JOIN derived_metrics d ON p.product_code = d.product_code\n",
    "WHERE d.is_ultra_processed = 'Yes'\n",
    "GROUP BY p.brand;\n",
    "\"\"\"\n",
    "print(execute_query(query_5))"
   ]
  },
  {
   "cell_type": "markdown",
   "id": "b5aa61e0",
   "metadata": {},
   "source": [
    "6. Number of products with fruits/vegetables/nuts content in each calorie_category"
   ]
  },
  {
   "cell_type": "code",
   "execution_count": null,
   "id": "4e9d9c7a",
   "metadata": {},
   "outputs": [],
   "source": [
    "query_6 = \"\"\"SELECT d.calorie_category, COUNT(*) AS fvn_products\n",
    "FROM derived_metrics d\n",
    "JOIN nutrient_info n ON d.product_code = n.product_code\n",
    "WHERE n.fruits_vegetables_nuts_estimate_100g > 0\n",
    "GROUP BY d.calorie_category;\n",
    "\"\"\"\n",
    "print(execute_query(query_6))"
   ]
  },
  {
   "cell_type": "markdown",
   "id": "7520b7de",
   "metadata": {},
   "source": [
    "7. Top 5 products by sugar_to_carb_ratio with their calorie and sugar category"
   ]
  },
  {
   "cell_type": "code",
   "execution_count": null,
   "id": "66b0895f",
   "metadata": {},
   "outputs": [],
   "source": [
    "query_7 = \"\"\"SELECT p.product_name, d.sugar_to_carb_ratio, d.calorie_category, d.sugar_category\n",
    "FROM product_info p\n",
    "JOIN derived_metrics d ON p.product_code = d.product_code\n",
    "ORDER BY d.sugar_to_carb_ratio DESC\n",
    "LIMIT 5;\n",
    "\"\"\"\n",
    "print(execute_query(query_7))"
   ]
  },
  {
   "cell_type": "code",
   "execution_count": null,
   "id": "4674e03a",
   "metadata": {},
   "outputs": [],
   "source": []
  },
  {
   "cell_type": "code",
   "execution_count": null,
   "id": "16c89928-22d3-4145-b026-15f3d8beb403",
   "metadata": {},
   "outputs": [],
   "source": []
  }
 ],
 "metadata": {
  "kernelspec": {
   "display_name": "Python 3 (ipykernel)",
   "language": "python",
   "name": "python3"
  },
  "language_info": {
   "codemirror_mode": {
    "name": "ipython",
    "version": 3
   },
   "file_extension": ".py",
   "mimetype": "text/x-python",
   "name": "python",
   "nbconvert_exporter": "python",
   "pygments_lexer": "ipython3",
   "version": "3.12.9"
  }
 },
 "nbformat": 4,
 "nbformat_minor": 5
}
